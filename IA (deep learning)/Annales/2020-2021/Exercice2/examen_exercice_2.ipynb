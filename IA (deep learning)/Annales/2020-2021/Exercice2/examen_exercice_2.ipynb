{
 "cells": [
  {
   "cell_type": "markdown",
   "id": "fc9fdca5",
   "metadata": {},
   "source": [
    "## Données pour effectuer l'entrainement"
   ]
  },
  {
   "cell_type": "code",
   "execution_count": 3,
   "id": "7943d555",
   "metadata": {},
   "outputs": [
    {
     "name": "stdout",
     "output_type": "stream",
     "text": [
      "There are 120 rows and 5 columns\n"
     ]
    }
   ],
   "source": [
    "import numpy as np \n",
    "\n",
    "# cvs avec 5 colonnes\n",
    "fleurs_training = np.genfromtxt(\"fleurs_training.csv\", delimiter=\",\")\n",
    "nRow, nCol = fleurs_training.shape\n",
    "print(f\"There are {nRow} rows and {nCol} columns\")"
   ]
  },
  {
   "cell_type": "markdown",
   "id": "4d24a372",
   "metadata": {},
   "source": [
    "## Données pour faire le test"
   ]
  },
  {
   "cell_type": "code",
   "execution_count": 2,
   "id": "03824552",
   "metadata": {},
   "outputs": [
    {
     "name": "stdout",
     "output_type": "stream",
     "text": [
      "There are 30 rows and 5 columns\n"
     ]
    }
   ],
   "source": [
    "fleurs_test = np.genfromtxt(\"fleurs_test.csv\", delimiter=\",\")\n",
    "nRow, nCol = fleurs_test.shape\n",
    "print(f\"There are {nRow} rows and {nCol} columns\")"
   ]
  },
  {
   "cell_type": "markdown",
   "id": "4c10653d",
   "metadata": {},
   "source": [
    "# Exercice"
   ]
  },
  {
   "cell_type": "markdown",
   "id": "ffaedf7a",
   "metadata": {},
   "source": [
    "# Classification multi-classe"
   ]
  },
  {
   "cell_type": "markdown",
   "id": "190d81bb",
   "metadata": {},
   "source": [
    "## Données pour entraînement (Q1)"
   ]
  },
  {
   "cell_type": "code",
   "execution_count": 5,
   "id": "4c31c350",
   "metadata": {},
   "outputs": [
    {
     "name": "stdout",
     "output_type": "stream",
     "text": [
      "There are 120 rows and 5 columns\n"
     ]
    }
   ],
   "source": [
    "import numpy as np\n",
    "\n",
    "all_train_data = np.genfromtxt(\"fleurs_training.csv\", delimiter=\",\")\n",
    "nRow, nCol = all_train_data.shape\n",
    "print(f\"There are {nRow} rows and {nCol} columns\")"
   ]
  },
  {
   "cell_type": "code",
   "execution_count": 6,
   "id": "c4f3f084",
   "metadata": {},
   "outputs": [
    {
     "data": {
      "text/plain": [
       "(120, 4)"
      ]
     },
     "execution_count": 6,
     "metadata": {},
     "output_type": "execute_result"
    }
   ],
   "source": [
    "train_data = all_train_data[:,0:4]\n",
    "train_data.shape"
   ]
  },
  {
   "cell_type": "code",
   "execution_count": 7,
   "id": "9b7874f1",
   "metadata": {},
   "outputs": [
    {
     "data": {
      "text/plain": [
       "(120,)"
      ]
     },
     "execution_count": 7,
     "metadata": {},
     "output_type": "execute_result"
    }
   ],
   "source": [
    "train_labels = all_train_data[:,4]\n",
    "train_labels.shape"
   ]
  },
  {
   "cell_type": "markdown",
   "id": "fdab9f9f",
   "metadata": {},
   "source": [
    "## Données de test (Q2)"
   ]
  },
  {
   "cell_type": "code",
   "execution_count": 9,
   "id": "a5ae5433",
   "metadata": {},
   "outputs": [
    {
     "name": "stdout",
     "output_type": "stream",
     "text": [
      "There are 30 rows and 5 columns\n"
     ]
    }
   ],
   "source": [
    "all_test_data = np.genfromtxt(\"fleurs_test.csv\", delimiter=\",\")\n",
    "nRow, nCol = all_test_data.shape\n",
    "print(f\"There are {nRow} rows and {nCol} columns\")"
   ]
  },
  {
   "cell_type": "code",
   "execution_count": 10,
   "id": "dc050ba9",
   "metadata": {},
   "outputs": [
    {
     "data": {
      "text/plain": [
       "(30, 4)"
      ]
     },
     "execution_count": 10,
     "metadata": {},
     "output_type": "execute_result"
    }
   ],
   "source": [
    "test_data = all_test_data[:,0:4]\n",
    "test_data.shape"
   ]
  },
  {
   "cell_type": "code",
   "execution_count": 11,
   "id": "1e95d781",
   "metadata": {},
   "outputs": [
    {
     "data": {
      "text/plain": [
       "(30,)"
      ]
     },
     "execution_count": 11,
     "metadata": {},
     "output_type": "execute_result"
    }
   ],
   "source": [
    "test_labels = all_test_data[:,4]\n",
    "test_labels.shape"
   ]
  },
  {
   "cell_type": "markdown",
   "id": "6a6489a8",
   "metadata": {},
   "source": [
    "## Normalisation des données"
   ]
  },
  {
   "cell_type": "code",
   "execution_count": 15,
   "id": "421f6052",
   "metadata": {},
   "outputs": [],
   "source": [
    "mean = train_data.mean(axis = 0)\n",
    "train_data -= mean\n",
    "std = train_data.std(axis = 0)\n",
    "train_data /= std\n",
    "test_data -= mean\n",
    "test_data /= std"
   ]
  },
  {
   "cell_type": "markdown",
   "id": "365064fe",
   "metadata": {},
   "source": [
    "## Création du modèle (Q3)"
   ]
  },
  {
   "cell_type": "code",
   "execution_count": 16,
   "id": "1a6f88c1",
   "metadata": {},
   "outputs": [],
   "source": [
    "from tensorflow import keras\n",
    "from tensorflow.keras import layers\n",
    "\n",
    "model = keras.Sequential([\n",
    "    layers.Dense(16, activation=\"relu\"),\n",
    "    layers.Dense(16, activation=\"relu\"),\n",
    "    layers.Dense(3, activation=\"softmax\")\n",
    "])"
   ]
  },
  {
   "cell_type": "markdown",
   "id": "f9fa8f82",
   "metadata": {},
   "source": [
    "## Compilation du modèle"
   ]
  },
  {
   "cell_type": "code",
   "execution_count": 17,
   "id": "5fa65607",
   "metadata": {},
   "outputs": [],
   "source": [
    "model.compile(optimizer=\"rmsprop\",\n",
    "              loss=\"sparse_categorical_crossentropy\", # Cas similaire au nombres de la feuille 2\n",
    "              metrics=[\"accuracy\"])"
   ]
  },
  {
   "cell_type": "markdown",
   "id": "2b6145f9",
   "metadata": {},
   "source": [
    "## Validation du modèle"
   ]
  },
  {
   "cell_type": "markdown",
   "id": "e87fea85",
   "metadata": {},
   "source": [
    "### Entraînement du modèle"
   ]
  },
  {
   "cell_type": "code",
   "execution_count": 18,
   "id": "9b71f9fe",
   "metadata": {
    "collapsed": true
   },
   "outputs": [
    {
     "name": "stdout",
     "output_type": "stream",
     "text": [
      "Epoch 1/200\n",
      "8/8 [==============================] - 2s 83ms/step - loss: 1.0661 - accuracy: 0.4333 - val_loss: 0.9794 - val_accuracy: 0.5000\n",
      "Epoch 2/200\n",
      "8/8 [==============================] - 0s 14ms/step - loss: 0.9742 - accuracy: 0.5250 - val_loss: 0.9311 - val_accuracy: 0.6667\n",
      "Epoch 3/200\n",
      "8/8 [==============================] - 0s 14ms/step - loss: 0.9094 - accuracy: 0.6667 - val_loss: 0.8867 - val_accuracy: 0.6667\n",
      "Epoch 4/200\n",
      "8/8 [==============================] - 0s 14ms/step - loss: 0.8507 - accuracy: 0.7833 - val_loss: 0.8473 - val_accuracy: 0.7333\n",
      "Epoch 5/200\n",
      "8/8 [==============================] - 0s 14ms/step - loss: 0.7971 - accuracy: 0.8333 - val_loss: 0.8086 - val_accuracy: 0.8000\n",
      "Epoch 6/200\n",
      "8/8 [==============================] - 0s 14ms/step - loss: 0.7493 - accuracy: 0.8333 - val_loss: 0.7703 - val_accuracy: 0.8000\n",
      "Epoch 7/200\n",
      "8/8 [==============================] - 0s 15ms/step - loss: 0.7017 - accuracy: 0.8417 - val_loss: 0.7344 - val_accuracy: 0.8000\n",
      "Epoch 8/200\n",
      "8/8 [==============================] - 0s 14ms/step - loss: 0.6577 - accuracy: 0.8417 - val_loss: 0.7017 - val_accuracy: 0.8000\n",
      "Epoch 9/200\n",
      "8/8 [==============================] - 0s 14ms/step - loss: 0.6176 - accuracy: 0.8500 - val_loss: 0.6711 - val_accuracy: 0.8000\n",
      "Epoch 10/200\n",
      "8/8 [==============================] - 0s 14ms/step - loss: 0.5806 - accuracy: 0.8500 - val_loss: 0.6409 - val_accuracy: 0.7667\n",
      "Epoch 11/200\n",
      "8/8 [==============================] - 0s 14ms/step - loss: 0.5459 - accuracy: 0.8500 - val_loss: 0.6117 - val_accuracy: 0.7667\n",
      "Epoch 12/200\n",
      "8/8 [==============================] - 0s 14ms/step - loss: 0.5140 - accuracy: 0.8500 - val_loss: 0.5846 - val_accuracy: 0.7667\n",
      "Epoch 13/200\n",
      "8/8 [==============================] - 0s 14ms/step - loss: 0.4854 - accuracy: 0.8500 - val_loss: 0.5584 - val_accuracy: 0.7667\n",
      "Epoch 14/200\n",
      "8/8 [==============================] - 0s 14ms/step - loss: 0.4584 - accuracy: 0.8417 - val_loss: 0.5314 - val_accuracy: 0.7667\n",
      "Epoch 15/200\n",
      "8/8 [==============================] - 0s 15ms/step - loss: 0.4322 - accuracy: 0.8583 - val_loss: 0.5071 - val_accuracy: 0.7667\n",
      "Epoch 16/200\n",
      "8/8 [==============================] - 0s 14ms/step - loss: 0.4100 - accuracy: 0.8500 - val_loss: 0.4844 - val_accuracy: 0.7667\n",
      "Epoch 17/200\n",
      "8/8 [==============================] - 0s 15ms/step - loss: 0.3908 - accuracy: 0.8500 - val_loss: 0.4650 - val_accuracy: 0.7667\n",
      "Epoch 18/200\n",
      "8/8 [==============================] - 0s 12ms/step - loss: 0.3743 - accuracy: 0.8500 - val_loss: 0.4491 - val_accuracy: 0.7667\n",
      "Epoch 19/200\n",
      "8/8 [==============================] - 0s 14ms/step - loss: 0.3604 - accuracy: 0.8500 - val_loss: 0.4359 - val_accuracy: 0.7667\n",
      "Epoch 20/200\n",
      "8/8 [==============================] - 0s 14ms/step - loss: 0.3482 - accuracy: 0.8583 - val_loss: 0.4248 - val_accuracy: 0.7667\n",
      "Epoch 21/200\n",
      "8/8 [==============================] - 0s 13ms/step - loss: 0.3372 - accuracy: 0.8500 - val_loss: 0.4106 - val_accuracy: 0.7667\n",
      "Epoch 22/200\n",
      "8/8 [==============================] - 0s 14ms/step - loss: 0.3283 - accuracy: 0.8583 - val_loss: 0.4035 - val_accuracy: 0.7667\n",
      "Epoch 23/200\n",
      "8/8 [==============================] - 0s 14ms/step - loss: 0.3188 - accuracy: 0.8583 - val_loss: 0.3948 - val_accuracy: 0.7667\n",
      "Epoch 24/200\n",
      "8/8 [==============================] - 0s 13ms/step - loss: 0.3117 - accuracy: 0.8583 - val_loss: 0.3857 - val_accuracy: 0.7667\n",
      "Epoch 25/200\n",
      "8/8 [==============================] - 0s 15ms/step - loss: 0.3052 - accuracy: 0.8583 - val_loss: 0.3718 - val_accuracy: 0.7667\n",
      "Epoch 26/200\n",
      "8/8 [==============================] - 0s 12ms/step - loss: 0.2971 - accuracy: 0.8583 - val_loss: 0.3643 - val_accuracy: 0.7667\n",
      "Epoch 27/200\n",
      "8/8 [==============================] - 0s 14ms/step - loss: 0.2924 - accuracy: 0.8583 - val_loss: 0.3547 - val_accuracy: 0.7667\n",
      "Epoch 28/200\n",
      "8/8 [==============================] - 0s 15ms/step - loss: 0.2858 - accuracy: 0.8583 - val_loss: 0.3491 - val_accuracy: 0.7667\n",
      "Epoch 29/200\n",
      "8/8 [==============================] - 0s 13ms/step - loss: 0.2825 - accuracy: 0.8583 - val_loss: 0.3437 - val_accuracy: 0.7667\n",
      "Epoch 30/200\n",
      "8/8 [==============================] - 0s 14ms/step - loss: 0.2749 - accuracy: 0.8583 - val_loss: 0.3356 - val_accuracy: 0.7667\n",
      "Epoch 31/200\n",
      "8/8 [==============================] - 0s 14ms/step - loss: 0.2704 - accuracy: 0.8583 - val_loss: 0.3266 - val_accuracy: 0.8333\n",
      "Epoch 32/200\n",
      "8/8 [==============================] - 0s 14ms/step - loss: 0.2655 - accuracy: 0.8583 - val_loss: 0.3184 - val_accuracy: 0.8333\n",
      "Epoch 33/200\n",
      "8/8 [==============================] - 0s 14ms/step - loss: 0.2604 - accuracy: 0.8583 - val_loss: 0.3105 - val_accuracy: 0.8333\n",
      "Epoch 34/200\n",
      "8/8 [==============================] - 0s 14ms/step - loss: 0.2561 - accuracy: 0.8583 - val_loss: 0.3033 - val_accuracy: 0.8333\n",
      "Epoch 35/200\n",
      "8/8 [==============================] - 0s 16ms/step - loss: 0.2530 - accuracy: 0.8583 - val_loss: 0.3014 - val_accuracy: 0.8333\n",
      "Epoch 36/200\n",
      "8/8 [==============================] - 0s 14ms/step - loss: 0.2476 - accuracy: 0.8583 - val_loss: 0.2919 - val_accuracy: 0.8667\n",
      "Epoch 37/200\n",
      "8/8 [==============================] - 0s 14ms/step - loss: 0.2443 - accuracy: 0.8667 - val_loss: 0.2866 - val_accuracy: 0.8667\n",
      "Epoch 38/200\n",
      "8/8 [==============================] - 0s 13ms/step - loss: 0.2415 - accuracy: 0.8667 - val_loss: 0.2818 - val_accuracy: 0.8667\n",
      "Epoch 39/200\n",
      "8/8 [==============================] - 0s 13ms/step - loss: 0.2396 - accuracy: 0.8667 - val_loss: 0.2759 - val_accuracy: 0.9333\n",
      "Epoch 40/200\n",
      "8/8 [==============================] - 0s 13ms/step - loss: 0.2331 - accuracy: 0.8667 - val_loss: 0.2721 - val_accuracy: 0.9333\n",
      "Epoch 41/200\n",
      "8/8 [==============================] - 0s 13ms/step - loss: 0.2294 - accuracy: 0.8750 - val_loss: 0.2675 - val_accuracy: 0.9333\n",
      "Epoch 42/200\n",
      "8/8 [==============================] - 0s 14ms/step - loss: 0.2253 - accuracy: 0.8917 - val_loss: 0.2652 - val_accuracy: 0.9000\n",
      "Epoch 43/200\n",
      "8/8 [==============================] - 0s 16ms/step - loss: 0.2233 - accuracy: 0.8750 - val_loss: 0.2602 - val_accuracy: 0.9333\n",
      "Epoch 44/200\n",
      "8/8 [==============================] - 0s 16ms/step - loss: 0.2185 - accuracy: 0.8833 - val_loss: 0.2495 - val_accuracy: 0.9333\n",
      "Epoch 45/200\n",
      "8/8 [==============================] - 0s 15ms/step - loss: 0.2149 - accuracy: 0.9167 - val_loss: 0.2495 - val_accuracy: 0.9333\n",
      "Epoch 46/200\n",
      "8/8 [==============================] - 0s 14ms/step - loss: 0.2116 - accuracy: 0.8917 - val_loss: 0.2417 - val_accuracy: 0.9333\n",
      "Epoch 47/200\n",
      "8/8 [==============================] - 0s 15ms/step - loss: 0.2072 - accuracy: 0.9083 - val_loss: 0.2337 - val_accuracy: 0.9333\n",
      "Epoch 48/200\n",
      "8/8 [==============================] - 0s 14ms/step - loss: 0.2035 - accuracy: 0.9083 - val_loss: 0.2258 - val_accuracy: 0.9667\n",
      "Epoch 49/200\n",
      "8/8 [==============================] - 0s 14ms/step - loss: 0.1999 - accuracy: 0.9250 - val_loss: 0.2215 - val_accuracy: 0.9333\n",
      "Epoch 50/200\n",
      "8/8 [==============================] - 0s 13ms/step - loss: 0.1957 - accuracy: 0.9167 - val_loss: 0.2145 - val_accuracy: 1.0000\n",
      "Epoch 51/200\n",
      "8/8 [==============================] - 0s 13ms/step - loss: 0.1918 - accuracy: 0.9167 - val_loss: 0.2094 - val_accuracy: 1.0000\n",
      "Epoch 52/200\n",
      "8/8 [==============================] - 0s 16ms/step - loss: 0.1879 - accuracy: 0.9333 - val_loss: 0.2040 - val_accuracy: 1.0000\n",
      "Epoch 53/200\n",
      "8/8 [==============================] - 0s 15ms/step - loss: 0.1851 - accuracy: 0.9250 - val_loss: 0.2007 - val_accuracy: 1.0000\n",
      "Epoch 54/200\n",
      "8/8 [==============================] - 0s 15ms/step - loss: 0.1815 - accuracy: 0.9250 - val_loss: 0.1952 - val_accuracy: 1.0000\n",
      "Epoch 55/200\n",
      "8/8 [==============================] - 0s 13ms/step - loss: 0.1772 - accuracy: 0.9417 - val_loss: 0.1914 - val_accuracy: 1.0000\n",
      "Epoch 56/200\n",
      "8/8 [==============================] - 0s 13ms/step - loss: 0.1731 - accuracy: 0.9417 - val_loss: 0.1923 - val_accuracy: 0.9667\n",
      "Epoch 57/200\n",
      "8/8 [==============================] - 0s 14ms/step - loss: 0.1718 - accuracy: 0.9417 - val_loss: 0.1845 - val_accuracy: 1.0000\n",
      "Epoch 58/200\n",
      "8/8 [==============================] - 0s 14ms/step - loss: 0.1672 - accuracy: 0.9417 - val_loss: 0.1824 - val_accuracy: 0.9667\n",
      "Epoch 59/200\n"
     ]
    },
    {
     "name": "stdout",
     "output_type": "stream",
     "text": [
      "8/8 [==============================] - 0s 13ms/step - loss: 0.1643 - accuracy: 0.9417 - val_loss: 0.1781 - val_accuracy: 0.9667\n",
      "Epoch 60/200\n",
      "8/8 [==============================] - 0s 14ms/step - loss: 0.1607 - accuracy: 0.9417 - val_loss: 0.1764 - val_accuracy: 0.9667\n",
      "Epoch 61/200\n",
      "8/8 [==============================] - 0s 13ms/step - loss: 0.1571 - accuracy: 0.9417 - val_loss: 0.1733 - val_accuracy: 0.9667\n",
      "Epoch 62/200\n",
      "8/8 [==============================] - 0s 15ms/step - loss: 0.1548 - accuracy: 0.9417 - val_loss: 0.1693 - val_accuracy: 0.9667\n",
      "Epoch 63/200\n",
      "8/8 [==============================] - 0s 15ms/step - loss: 0.1544 - accuracy: 0.9417 - val_loss: 0.1675 - val_accuracy: 0.9667\n",
      "Epoch 64/200\n",
      "8/8 [==============================] - 0s 13ms/step - loss: 0.1490 - accuracy: 0.9417 - val_loss: 0.1619 - val_accuracy: 0.9667\n",
      "Epoch 65/200\n",
      "8/8 [==============================] - 0s 13ms/step - loss: 0.1476 - accuracy: 0.9417 - val_loss: 0.1600 - val_accuracy: 0.9667\n",
      "Epoch 66/200\n",
      "8/8 [==============================] - 0s 14ms/step - loss: 0.1453 - accuracy: 0.9500 - val_loss: 0.1552 - val_accuracy: 1.0000\n",
      "Epoch 67/200\n",
      "8/8 [==============================] - 0s 14ms/step - loss: 0.1426 - accuracy: 0.9500 - val_loss: 0.1565 - val_accuracy: 0.9667\n",
      "Epoch 68/200\n",
      "8/8 [==============================] - 0s 13ms/step - loss: 0.1399 - accuracy: 0.9417 - val_loss: 0.1483 - val_accuracy: 1.0000\n",
      "Epoch 69/200\n",
      "8/8 [==============================] - 0s 14ms/step - loss: 0.1380 - accuracy: 0.9500 - val_loss: 0.1495 - val_accuracy: 0.9667\n",
      "Epoch 70/200\n",
      "8/8 [==============================] - 0s 14ms/step - loss: 0.1352 - accuracy: 0.9417 - val_loss: 0.1433 - val_accuracy: 1.0000\n",
      "Epoch 71/200\n",
      "8/8 [==============================] - 0s 15ms/step - loss: 0.1328 - accuracy: 0.9500 - val_loss: 0.1403 - val_accuracy: 1.0000\n",
      "Epoch 72/200\n",
      "8/8 [==============================] - 0s 15ms/step - loss: 0.1308 - accuracy: 0.9500 - val_loss: 0.1355 - val_accuracy: 1.0000\n",
      "Epoch 73/200\n",
      "8/8 [==============================] - 0s 14ms/step - loss: 0.1299 - accuracy: 0.9500 - val_loss: 0.1351 - val_accuracy: 1.0000\n",
      "Epoch 74/200\n",
      "8/8 [==============================] - 0s 14ms/step - loss: 0.1247 - accuracy: 0.9500 - val_loss: 0.1331 - val_accuracy: 0.9667\n",
      "Epoch 75/200\n",
      "8/8 [==============================] - 0s 14ms/step - loss: 0.1253 - accuracy: 0.9500 - val_loss: 0.1316 - val_accuracy: 0.9667\n",
      "Epoch 76/200\n",
      "8/8 [==============================] - 0s 13ms/step - loss: 0.1212 - accuracy: 0.9500 - val_loss: 0.1263 - val_accuracy: 1.0000\n",
      "Epoch 77/200\n",
      "8/8 [==============================] - 0s 13ms/step - loss: 0.1196 - accuracy: 0.9583 - val_loss: 0.1233 - val_accuracy: 1.0000\n",
      "Epoch 78/200\n",
      "8/8 [==============================] - 0s 14ms/step - loss: 0.1180 - accuracy: 0.9500 - val_loss: 0.1229 - val_accuracy: 0.9667\n",
      "Epoch 79/200\n",
      "8/8 [==============================] - 0s 14ms/step - loss: 0.1154 - accuracy: 0.9583 - val_loss: 0.1176 - val_accuracy: 0.9667\n",
      "Epoch 80/200\n",
      "8/8 [==============================] - 0s 16ms/step - loss: 0.1146 - accuracy: 0.9500 - val_loss: 0.1162 - val_accuracy: 0.9667\n",
      "Epoch 81/200\n",
      "8/8 [==============================] - 0s 15ms/step - loss: 0.1118 - accuracy: 0.9583 - val_loss: 0.1121 - val_accuracy: 0.9667\n",
      "Epoch 82/200\n",
      "8/8 [==============================] - 0s 13ms/step - loss: 0.1103 - accuracy: 0.9500 - val_loss: 0.1126 - val_accuracy: 0.9667\n",
      "Epoch 83/200\n",
      "8/8 [==============================] - 0s 13ms/step - loss: 0.1100 - accuracy: 0.9500 - val_loss: 0.1113 - val_accuracy: 0.9667\n",
      "Epoch 84/200\n",
      "8/8 [==============================] - 0s 14ms/step - loss: 0.1096 - accuracy: 0.9417 - val_loss: 0.1117 - val_accuracy: 0.9667\n",
      "Epoch 85/200\n",
      "8/8 [==============================] - 0s 13ms/step - loss: 0.1049 - accuracy: 0.9583 - val_loss: 0.1110 - val_accuracy: 0.9667\n",
      "Epoch 86/200\n",
      "8/8 [==============================] - 0s 13ms/step - loss: 0.1050 - accuracy: 0.9583 - val_loss: 0.1083 - val_accuracy: 0.9667\n",
      "Epoch 87/200\n",
      "8/8 [==============================] - 0s 13ms/step - loss: 0.1024 - accuracy: 0.9583 - val_loss: 0.1057 - val_accuracy: 1.0000\n",
      "Epoch 88/200\n",
      "8/8 [==============================] - 0s 13ms/step - loss: 0.1014 - accuracy: 0.9583 - val_loss: 0.1020 - val_accuracy: 0.9667\n",
      "Epoch 89/200\n",
      "8/8 [==============================] - 0s 15ms/step - loss: 0.1018 - accuracy: 0.9500 - val_loss: 0.1018 - val_accuracy: 0.9667\n",
      "Epoch 90/200\n",
      "8/8 [==============================] - 0s 14ms/step - loss: 0.0991 - accuracy: 0.9583 - val_loss: 0.1050 - val_accuracy: 0.9667\n",
      "Epoch 91/200\n",
      "8/8 [==============================] - 0s 15ms/step - loss: 0.0982 - accuracy: 0.9583 - val_loss: 0.1030 - val_accuracy: 0.9667\n",
      "Epoch 92/200\n",
      "8/8 [==============================] - 0s 14ms/step - loss: 0.0988 - accuracy: 0.9583 - val_loss: 0.1020 - val_accuracy: 0.9667\n",
      "Epoch 93/200\n",
      "8/8 [==============================] - 0s 13ms/step - loss: 0.0959 - accuracy: 0.9667 - val_loss: 0.0981 - val_accuracy: 0.9667\n",
      "Epoch 94/200\n",
      "8/8 [==============================] - 0s 14ms/step - loss: 0.0951 - accuracy: 0.9583 - val_loss: 0.0955 - val_accuracy: 0.9667\n",
      "Epoch 95/200\n",
      "8/8 [==============================] - 0s 14ms/step - loss: 0.0939 - accuracy: 0.9583 - val_loss: 0.0948 - val_accuracy: 0.9667\n",
      "Epoch 96/200\n",
      "8/8 [==============================] - 0s 14ms/step - loss: 0.0934 - accuracy: 0.9583 - val_loss: 0.0937 - val_accuracy: 0.9667\n",
      "Epoch 97/200\n",
      "8/8 [==============================] - 0s 13ms/step - loss: 0.0906 - accuracy: 0.9500 - val_loss: 0.0940 - val_accuracy: 0.9333\n",
      "Epoch 98/200\n",
      "8/8 [==============================] - 0s 14ms/step - loss: 0.0909 - accuracy: 0.9667 - val_loss: 0.0898 - val_accuracy: 0.9667\n",
      "Epoch 99/200\n",
      "8/8 [==============================] - 0s 14ms/step - loss: 0.0893 - accuracy: 0.9583 - val_loss: 0.0875 - val_accuracy: 0.9667\n",
      "Epoch 100/200\n",
      "8/8 [==============================] - 0s 15ms/step - loss: 0.0879 - accuracy: 0.9500 - val_loss: 0.0880 - val_accuracy: 0.9667\n",
      "Epoch 101/200\n",
      "8/8 [==============================] - 0s 14ms/step - loss: 0.0889 - accuracy: 0.9583 - val_loss: 0.0867 - val_accuracy: 0.9667\n",
      "Epoch 102/200\n",
      "8/8 [==============================] - 0s 13ms/step - loss: 0.0877 - accuracy: 0.9500 - val_loss: 0.0890 - val_accuracy: 0.9667\n",
      "Epoch 103/200\n",
      "8/8 [==============================] - 0s 14ms/step - loss: 0.0863 - accuracy: 0.9667 - val_loss: 0.0894 - val_accuracy: 0.9667\n",
      "Epoch 104/200\n",
      "8/8 [==============================] - 0s 13ms/step - loss: 0.0855 - accuracy: 0.9667 - val_loss: 0.0887 - val_accuracy: 0.9667\n",
      "Epoch 105/200\n",
      "8/8 [==============================] - 0s 13ms/step - loss: 0.0857 - accuracy: 0.9667 - val_loss: 0.0861 - val_accuracy: 0.9667\n",
      "Epoch 106/200\n",
      "8/8 [==============================] - 0s 14ms/step - loss: 0.0838 - accuracy: 0.9667 - val_loss: 0.0863 - val_accuracy: 0.9333\n",
      "Epoch 107/200\n",
      "8/8 [==============================] - 0s 16ms/step - loss: 0.0825 - accuracy: 0.9667 - val_loss: 0.0837 - val_accuracy: 0.9667\n",
      "Epoch 108/200\n",
      "8/8 [==============================] - 0s 17ms/step - loss: 0.0824 - accuracy: 0.9583 - val_loss: 0.0837 - val_accuracy: 0.9667\n",
      "Epoch 109/200\n",
      "8/8 [==============================] - 0s 15ms/step - loss: 0.0814 - accuracy: 0.9667 - val_loss: 0.0837 - val_accuracy: 0.9667\n",
      "Epoch 110/200\n",
      "8/8 [==============================] - 0s 14ms/step - loss: 0.0819 - accuracy: 0.9667 - val_loss: 0.0816 - val_accuracy: 0.9667\n",
      "Epoch 111/200\n",
      "8/8 [==============================] - 0s 13ms/step - loss: 0.0792 - accuracy: 0.9667 - val_loss: 0.0799 - val_accuracy: 0.9667\n",
      "Epoch 112/200\n",
      "8/8 [==============================] - 0s 13ms/step - loss: 0.0798 - accuracy: 0.9667 - val_loss: 0.0798 - val_accuracy: 0.9667\n",
      "Epoch 113/200\n",
      "8/8 [==============================] - 0s 13ms/step - loss: 0.0785 - accuracy: 0.9667 - val_loss: 0.0781 - val_accuracy: 0.9667\n",
      "Epoch 114/200\n",
      "8/8 [==============================] - 0s 14ms/step - loss: 0.0781 - accuracy: 0.9667 - val_loss: 0.0773 - val_accuracy: 0.9667\n",
      "Epoch 115/200\n",
      "8/8 [==============================] - 0s 13ms/step - loss: 0.0778 - accuracy: 0.9667 - val_loss: 0.0765 - val_accuracy: 0.9667\n",
      "Epoch 116/200\n",
      "8/8 [==============================] - 0s 16ms/step - loss: 0.0775 - accuracy: 0.9667 - val_loss: 0.0765 - val_accuracy: 0.9667\n",
      "Epoch 117/200\n"
     ]
    },
    {
     "name": "stdout",
     "output_type": "stream",
     "text": [
      "8/8 [==============================] - 0s 14ms/step - loss: 0.0769 - accuracy: 0.9667 - val_loss: 0.0760 - val_accuracy: 0.9667\n",
      "Epoch 118/200\n",
      "8/8 [==============================] - 0s 15ms/step - loss: 0.0745 - accuracy: 0.9667 - val_loss: 0.0774 - val_accuracy: 0.9667\n",
      "Epoch 119/200\n",
      "8/8 [==============================] - 0s 13ms/step - loss: 0.0741 - accuracy: 0.9667 - val_loss: 0.0763 - val_accuracy: 0.9667\n",
      "Epoch 120/200\n",
      "8/8 [==============================] - 0s 14ms/step - loss: 0.0730 - accuracy: 0.9667 - val_loss: 0.0758 - val_accuracy: 0.9667\n",
      "Epoch 121/200\n",
      "8/8 [==============================] - 0s 13ms/step - loss: 0.0746 - accuracy: 0.9667 - val_loss: 0.0747 - val_accuracy: 0.9667\n",
      "Epoch 122/200\n",
      "8/8 [==============================] - 0s 13ms/step - loss: 0.0716 - accuracy: 0.9750 - val_loss: 0.0731 - val_accuracy: 0.9667\n",
      "Epoch 123/200\n",
      "8/8 [==============================] - 0s 13ms/step - loss: 0.0717 - accuracy: 0.9667 - val_loss: 0.0728 - val_accuracy: 0.9667\n",
      "Epoch 124/200\n",
      "8/8 [==============================] - 0s 12ms/step - loss: 0.0731 - accuracy: 0.9667 - val_loss: 0.0726 - val_accuracy: 0.9667\n",
      "Epoch 125/200\n",
      "8/8 [==============================] - 0s 14ms/step - loss: 0.0704 - accuracy: 0.9667 - val_loss: 0.0715 - val_accuracy: 0.9667\n",
      "Epoch 126/200\n",
      "8/8 [==============================] - 0s 15ms/step - loss: 0.0704 - accuracy: 0.9667 - val_loss: 0.0711 - val_accuracy: 0.9667\n",
      "Epoch 127/200\n",
      "8/8 [==============================] - 0s 15ms/step - loss: 0.0704 - accuracy: 0.9667 - val_loss: 0.0707 - val_accuracy: 0.9667\n",
      "Epoch 128/200\n",
      "8/8 [==============================] - 0s 14ms/step - loss: 0.0691 - accuracy: 0.9667 - val_loss: 0.0707 - val_accuracy: 0.9667\n",
      "Epoch 129/200\n",
      "8/8 [==============================] - 0s 14ms/step - loss: 0.0689 - accuracy: 0.9667 - val_loss: 0.0712 - val_accuracy: 0.9667\n",
      "Epoch 130/200\n",
      "8/8 [==============================] - 0s 14ms/step - loss: 0.0671 - accuracy: 0.9750 - val_loss: 0.0700 - val_accuracy: 0.9667\n",
      "Epoch 131/200\n",
      "8/8 [==============================] - 0s 13ms/step - loss: 0.0669 - accuracy: 0.9583 - val_loss: 0.0699 - val_accuracy: 0.9667\n",
      "Epoch 132/200\n",
      "8/8 [==============================] - 0s 14ms/step - loss: 0.0654 - accuracy: 0.9667 - val_loss: 0.0694 - val_accuracy: 0.9667\n",
      "Epoch 133/200\n",
      "8/8 [==============================] - 0s 14ms/step - loss: 0.0657 - accuracy: 0.9667 - val_loss: 0.0689 - val_accuracy: 0.9667\n",
      "Epoch 134/200\n",
      "8/8 [==============================] - 0s 14ms/step - loss: 0.0668 - accuracy: 0.9667 - val_loss: 0.0685 - val_accuracy: 0.9667\n",
      "Epoch 135/200\n",
      "8/8 [==============================] - 0s 14ms/step - loss: 0.0653 - accuracy: 0.9667 - val_loss: 0.0682 - val_accuracy: 0.9667\n",
      "Epoch 136/200\n",
      "8/8 [==============================] - 0s 15ms/step - loss: 0.0642 - accuracy: 0.9667 - val_loss: 0.0677 - val_accuracy: 0.9667\n",
      "Epoch 137/200\n",
      "8/8 [==============================] - 0s 14ms/step - loss: 0.0639 - accuracy: 0.9667 - val_loss: 0.0676 - val_accuracy: 0.9667\n",
      "Epoch 138/200\n",
      "8/8 [==============================] - 0s 14ms/step - loss: 0.0632 - accuracy: 0.9667 - val_loss: 0.0672 - val_accuracy: 0.9667\n",
      "Epoch 139/200\n",
      "8/8 [==============================] - 0s 14ms/step - loss: 0.0644 - accuracy: 0.9667 - val_loss: 0.0671 - val_accuracy: 0.9667\n",
      "Epoch 140/200\n",
      "8/8 [==============================] - 0s 13ms/step - loss: 0.0624 - accuracy: 0.9667 - val_loss: 0.0669 - val_accuracy: 0.9667\n",
      "Epoch 141/200\n",
      "8/8 [==============================] - 0s 13ms/step - loss: 0.0639 - accuracy: 0.9667 - val_loss: 0.0663 - val_accuracy: 0.9667\n",
      "Epoch 142/200\n",
      "8/8 [==============================] - 0s 13ms/step - loss: 0.0605 - accuracy: 0.9750 - val_loss: 0.0659 - val_accuracy: 0.9667\n",
      "Epoch 143/200\n",
      "8/8 [==============================] - 0s 14ms/step - loss: 0.0618 - accuracy: 0.9667 - val_loss: 0.0662 - val_accuracy: 0.9667\n",
      "Epoch 144/200\n",
      "8/8 [==============================] - 0s 15ms/step - loss: 0.0615 - accuracy: 0.9750 - val_loss: 0.0655 - val_accuracy: 0.9667\n",
      "Epoch 145/200\n",
      "8/8 [==============================] - 0s 14ms/step - loss: 0.0599 - accuracy: 0.9667 - val_loss: 0.0656 - val_accuracy: 0.9667\n",
      "Epoch 146/200\n",
      "8/8 [==============================] - 0s 14ms/step - loss: 0.0604 - accuracy: 0.9667 - val_loss: 0.0647 - val_accuracy: 0.9667\n",
      "Epoch 147/200\n",
      "8/8 [==============================] - 0s 14ms/step - loss: 0.0604 - accuracy: 0.9667 - val_loss: 0.0646 - val_accuracy: 0.9667\n",
      "Epoch 148/200\n",
      "8/8 [==============================] - 0s 14ms/step - loss: 0.0601 - accuracy: 0.9667 - val_loss: 0.0644 - val_accuracy: 0.9667\n",
      "Epoch 149/200\n",
      "8/8 [==============================] - 0s 14ms/step - loss: 0.0592 - accuracy: 0.9667 - val_loss: 0.0645 - val_accuracy: 0.9667\n",
      "Epoch 150/200\n",
      "8/8 [==============================] - 0s 14ms/step - loss: 0.0580 - accuracy: 0.9667 - val_loss: 0.0645 - val_accuracy: 0.9667\n",
      "Epoch 151/200\n",
      "8/8 [==============================] - 0s 13ms/step - loss: 0.0594 - accuracy: 0.9667 - val_loss: 0.0640 - val_accuracy: 0.9667\n",
      "Epoch 152/200\n",
      "8/8 [==============================] - 0s 12ms/step - loss: 0.0580 - accuracy: 0.9667 - val_loss: 0.0637 - val_accuracy: 0.9667\n",
      "Epoch 153/200\n",
      "8/8 [==============================] - 0s 15ms/step - loss: 0.0569 - accuracy: 0.9667 - val_loss: 0.0644 - val_accuracy: 0.9333\n",
      "Epoch 154/200\n",
      "8/8 [==============================] - 0s 16ms/step - loss: 0.0567 - accuracy: 0.9750 - val_loss: 0.0633 - val_accuracy: 0.9667\n",
      "Epoch 155/200\n",
      "8/8 [==============================] - 0s 15ms/step - loss: 0.0564 - accuracy: 0.9833 - val_loss: 0.0633 - val_accuracy: 0.9667\n",
      "Epoch 156/200\n",
      "8/8 [==============================] - 0s 13ms/step - loss: 0.0568 - accuracy: 0.9750 - val_loss: 0.0636 - val_accuracy: 0.9667\n",
      "Epoch 157/200\n",
      "8/8 [==============================] - 0s 14ms/step - loss: 0.0573 - accuracy: 0.9750 - val_loss: 0.0634 - val_accuracy: 0.9667\n",
      "Epoch 158/200\n",
      "8/8 [==============================] - 0s 14ms/step - loss: 0.0550 - accuracy: 0.9750 - val_loss: 0.0630 - val_accuracy: 0.9667\n",
      "Epoch 159/200\n",
      "8/8 [==============================] - 0s 14ms/step - loss: 0.0553 - accuracy: 0.9750 - val_loss: 0.0629 - val_accuracy: 0.9667\n",
      "Epoch 160/200\n",
      "8/8 [==============================] - 0s 13ms/step - loss: 0.0534 - accuracy: 0.9833 - val_loss: 0.0629 - val_accuracy: 0.9667\n",
      "Epoch 161/200\n",
      "8/8 [==============================] - 0s 14ms/step - loss: 0.0546 - accuracy: 0.9750 - val_loss: 0.0643 - val_accuracy: 0.9667\n",
      "Epoch 162/200\n",
      "8/8 [==============================] - 0s 16ms/step - loss: 0.0546 - accuracy: 0.9750 - val_loss: 0.0620 - val_accuracy: 0.9667\n",
      "Epoch 163/200\n",
      "8/8 [==============================] - 0s 13ms/step - loss: 0.0528 - accuracy: 0.9750 - val_loss: 0.0618 - val_accuracy: 0.9667\n",
      "Epoch 164/200\n",
      "8/8 [==============================] - 0s 13ms/step - loss: 0.0538 - accuracy: 0.9750 - val_loss: 0.0619 - val_accuracy: 0.9667\n",
      "Epoch 165/200\n",
      "8/8 [==============================] - 0s 13ms/step - loss: 0.0529 - accuracy: 0.9833 - val_loss: 0.0621 - val_accuracy: 0.9667\n",
      "Epoch 166/200\n",
      "8/8 [==============================] - 0s 12ms/step - loss: 0.0522 - accuracy: 0.9833 - val_loss: 0.0620 - val_accuracy: 0.9667\n",
      "Epoch 167/200\n",
      "8/8 [==============================] - 0s 13ms/step - loss: 0.0522 - accuracy: 0.9833 - val_loss: 0.0625 - val_accuracy: 0.9667\n",
      "Epoch 168/200\n",
      "8/8 [==============================] - 0s 13ms/step - loss: 0.0514 - accuracy: 0.9750 - val_loss: 0.0617 - val_accuracy: 0.9667\n",
      "Epoch 169/200\n",
      "8/8 [==============================] - 0s 13ms/step - loss: 0.0538 - accuracy: 0.9750 - val_loss: 0.0610 - val_accuracy: 0.9667\n",
      "Epoch 170/200\n",
      "8/8 [==============================] - 0s 13ms/step - loss: 0.0513 - accuracy: 0.9750 - val_loss: 0.0613 - val_accuracy: 0.9667\n",
      "Epoch 171/200\n",
      "8/8 [==============================] - 0s 14ms/step - loss: 0.0508 - accuracy: 0.9833 - val_loss: 0.0616 - val_accuracy: 0.9667\n",
      "Epoch 172/200\n",
      "8/8 [==============================] - 0s 15ms/step - loss: 0.0521 - accuracy: 0.9750 - val_loss: 0.0626 - val_accuracy: 0.9667\n",
      "Epoch 173/200\n",
      "8/8 [==============================] - 0s 14ms/step - loss: 0.0503 - accuracy: 0.9750 - val_loss: 0.0616 - val_accuracy: 0.9667\n",
      "Epoch 174/200\n",
      "8/8 [==============================] - 0s 13ms/step - loss: 0.0509 - accuracy: 0.9750 - val_loss: 0.0620 - val_accuracy: 0.9667\n"
     ]
    },
    {
     "name": "stdout",
     "output_type": "stream",
     "text": [
      "Epoch 175/200\n",
      "8/8 [==============================] - 0s 14ms/step - loss: 0.0503 - accuracy: 0.9750 - val_loss: 0.0620 - val_accuracy: 0.9667\n",
      "Epoch 176/200\n",
      "8/8 [==============================] - 0s 13ms/step - loss: 0.0512 - accuracy: 0.9833 - val_loss: 0.0618 - val_accuracy: 0.9667\n",
      "Epoch 177/200\n",
      "8/8 [==============================] - 0s 14ms/step - loss: 0.0495 - accuracy: 0.9750 - val_loss: 0.0609 - val_accuracy: 0.9667\n",
      "Epoch 178/200\n",
      "8/8 [==============================] - 0s 14ms/step - loss: 0.0479 - accuracy: 0.9750 - val_loss: 0.0600 - val_accuracy: 0.9667\n",
      "Epoch 179/200\n",
      "8/8 [==============================] - 0s 14ms/step - loss: 0.0491 - accuracy: 0.9750 - val_loss: 0.0598 - val_accuracy: 0.9667\n",
      "Epoch 180/200\n",
      "8/8 [==============================] - 0s 14ms/step - loss: 0.0504 - accuracy: 0.9833 - val_loss: 0.0602 - val_accuracy: 0.9667\n",
      "Epoch 181/200\n",
      "8/8 [==============================] - 0s 15ms/step - loss: 0.0488 - accuracy: 0.9833 - val_loss: 0.0599 - val_accuracy: 0.9667\n",
      "Epoch 182/200\n",
      "8/8 [==============================] - 0s 15ms/step - loss: 0.0476 - accuracy: 0.9833 - val_loss: 0.0600 - val_accuracy: 0.9667\n",
      "Epoch 183/200\n",
      "8/8 [==============================] - 0s 14ms/step - loss: 0.0477 - accuracy: 0.9833 - val_loss: 0.0610 - val_accuracy: 0.9667\n",
      "Epoch 184/200\n",
      "8/8 [==============================] - 0s 14ms/step - loss: 0.0474 - accuracy: 0.9833 - val_loss: 0.0607 - val_accuracy: 0.9667\n",
      "Epoch 185/200\n",
      "8/8 [==============================] - 0s 14ms/step - loss: 0.0481 - accuracy: 0.9750 - val_loss: 0.0591 - val_accuracy: 0.9667\n",
      "Epoch 186/200\n",
      "8/8 [==============================] - 0s 14ms/step - loss: 0.0474 - accuracy: 0.9833 - val_loss: 0.0595 - val_accuracy: 0.9667\n",
      "Epoch 187/200\n",
      "8/8 [==============================] - 0s 13ms/step - loss: 0.0464 - accuracy: 0.9833 - val_loss: 0.0595 - val_accuracy: 0.9667\n",
      "Epoch 188/200\n",
      "8/8 [==============================] - 0s 14ms/step - loss: 0.0474 - accuracy: 0.9750 - val_loss: 0.0591 - val_accuracy: 0.9667\n",
      "Epoch 189/200\n",
      "8/8 [==============================] - 0s 14ms/step - loss: 0.0459 - accuracy: 0.9833 - val_loss: 0.0597 - val_accuracy: 0.9667\n",
      "Epoch 190/200\n",
      "8/8 [==============================] - 0s 16ms/step - loss: 0.0462 - accuracy: 0.9833 - val_loss: 0.0595 - val_accuracy: 0.9667\n",
      "Epoch 191/200\n",
      "8/8 [==============================] - 0s 15ms/step - loss: 0.0449 - accuracy: 0.9833 - val_loss: 0.0598 - val_accuracy: 0.9667\n",
      "Epoch 192/200\n",
      "8/8 [==============================] - 0s 14ms/step - loss: 0.0453 - accuracy: 0.9833 - val_loss: 0.0601 - val_accuracy: 0.9667\n",
      "Epoch 193/200\n",
      "8/8 [==============================] - 0s 13ms/step - loss: 0.0442 - accuracy: 0.9833 - val_loss: 0.0620 - val_accuracy: 0.9667\n",
      "Epoch 194/200\n",
      "8/8 [==============================] - 0s 14ms/step - loss: 0.0447 - accuracy: 0.9750 - val_loss: 0.0589 - val_accuracy: 0.9667\n",
      "Epoch 195/200\n",
      "8/8 [==============================] - 0s 13ms/step - loss: 0.0461 - accuracy: 0.9833 - val_loss: 0.0593 - val_accuracy: 0.9667\n",
      "Epoch 196/200\n",
      "8/8 [==============================] - 0s 14ms/step - loss: 0.0450 - accuracy: 0.9750 - val_loss: 0.0594 - val_accuracy: 0.9667\n",
      "Epoch 197/200\n",
      "8/8 [==============================] - 0s 13ms/step - loss: 0.0446 - accuracy: 0.9833 - val_loss: 0.0595 - val_accuracy: 0.9667\n",
      "Epoch 198/200\n",
      "8/8 [==============================] - 0s 14ms/step - loss: 0.0445 - accuracy: 0.9750 - val_loss: 0.0579 - val_accuracy: 0.9667\n",
      "Epoch 199/200\n",
      "8/8 [==============================] - 0s 16ms/step - loss: 0.0438 - accuracy: 0.9833 - val_loss: 0.0578 - val_accuracy: 0.9667\n",
      "Epoch 200/200\n",
      "8/8 [==============================] - 0s 16ms/step - loss: 0.0433 - accuracy: 0.9833 - val_loss: 0.0589 - val_accuracy: 0.9667\n"
     ]
    }
   ],
   "source": [
    "history = model.fit(train_data, # Les données d'entraînement\n",
    "                    train_labels, # Les espèces de fleur\n",
    "                    epochs=200,\n",
    "                    batch_size=16, # Batch : lot de données\n",
    "                    validation_data=(test_data, test_labels))"
   ]
  },
  {
   "cell_type": "markdown",
   "id": "7c646159",
   "metadata": {},
   "source": [
    "### Affichage de la training et validation loss"
   ]
  },
  {
   "cell_type": "code",
   "execution_count": 22,
   "id": "7d53c9e0",
   "metadata": {},
   "outputs": [
    {
     "data": {
      "image/png": "[encoded data removed]",
      "text/plain": [
       "<Figure size 432x288 with 1 Axes>"
      ]
     },
     "metadata": {
      "needs_background": "light"
     },
     "output_type": "display_data"
    }
   ],
   "source": [
    "import matplotlib.pyplot as plt\n",
    "\n",
    "loss = history.history[\"loss\"]\n",
    "val_loss = history.history[\"val_loss\"]\n",
    "epochs = range(1, len(loss) + 1)\n",
    "plt.plot(epochs, loss, \"ro\", label=\"Training loss\")\n",
    "plt.plot(epochs, val_loss, \"b\", label=\"Validation loss\")\n",
    "plt.title(\"Training and validation loss\")\n",
    "plt.xlabel(\"Epochs\")\n",
    "plt.ylabel(\"Loss\")\n",
    "plt.legend()\n",
    "plt.show()"
   ]
  },
  {
   "cell_type": "markdown",
   "id": "4a68bed5",
   "metadata": {},
   "source": [
    "## Affichage Accuracy"
   ]
  },
  {
   "cell_type": "code",
   "execution_count": 24,
   "id": "209d4a7e",
   "metadata": {},
   "outputs": [
    {
     "data": {
      "image/png": "[encoded data removed]",
      "text/plain": [
       "<Figure size 432x288 with 1 Axes>"
      ]
     },
     "metadata": {
      "needs_background": "light"
     },
     "output_type": "display_data"
    }
   ],
   "source": [
    "plt.clf()\n",
    "acc = history.history[\"accuracy\"]\n",
    "val_acc = history.history[\"val_accuracy\"]\n",
    "plt.plot(epochs, acc, \"ro\", label=\"Training accuracy\")\n",
    "plt.plot(epochs, val_acc, \"b\", label=\"Validation accuracy\")\n",
    "plt.title(\"Training and validation accuracy\")\n",
    "plt.xlabel(\"Epochs\")\n",
    "plt.ylabel(\"Accuracy\")\n",
    "plt.legend()\n",
    "plt.show()"
   ]
  },
  {
   "cell_type": "markdown",
   "id": "fa57a3b6",
   "metadata": {},
   "source": [
    "## Voir Moodle pour correction et pour le test avec la fleur demandée"
   ]
  },
  {
   "cell_type": "markdown",
   "id": "729222b2",
   "metadata": {},
   "source": [
    "# Correction pour le modèle"
   ]
  },
  {
   "cell_type": "code",
   "execution_count": null,
   "id": "42950bda",
   "metadata": {},
   "outputs": [],
   "source": [
    "# En général, préférable de mettre le réseau dans une fonction (incomplète ici, voir correction)\n",
    "def build_model():\n",
    "    model = keras.Sequential([\n",
    "        layers.Dense(16, activation=\"relu\"),\n",
    "        layers.Dense(16, activation=\"relu\"),\n",
    "        layers.Dense(3, activation=\"softmax\")\n",
    "    ])"
   ]
  }
 ],
 "metadata": {
  "kernelspec": {
   "display_name": "Python 3 (ipykernel)",
   "language": "python",
   "name": "python3"
  },
  "language_info": {
   "codemirror_mode": {
    "name": "ipython",
    "version": 3
   },
   "file_extension": ".py",
   "mimetype": "text/x-python",
   "name": "python",
   "nbconvert_exporter": "python",
   "pygments_lexer": "ipython3",
   "version": "3.9.7"
  }
 },
 "nbformat": 4,
 "nbformat_minor": 5
}
