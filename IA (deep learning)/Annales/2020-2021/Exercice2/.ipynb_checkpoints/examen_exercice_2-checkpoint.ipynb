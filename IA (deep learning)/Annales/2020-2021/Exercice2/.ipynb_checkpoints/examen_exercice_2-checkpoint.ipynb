{
 "cells": [
  {
   "cell_type": "markdown",
   "id": "4c10653d",
   "metadata": {},
   "source": [
    "# Exercice"
   ]
  },
  {
   "cell_type": "markdown",
   "id": "ffaedf7a",
   "metadata": {},
   "source": [
    "# Classification multi-classe (3 classes de sortie)"
   ]
  },
  {
   "cell_type": "markdown",
   "id": "190d81bb",
   "metadata": {},
   "source": [
    "## Données pour entraînement (Q1)"
   ]
  },
  {
   "cell_type": "code",
   "execution_count": 38,
   "id": "4c31c350",
   "metadata": {},
   "outputs": [
    {
     "name": "stdout",
     "output_type": "stream",
     "text": [
      "There are 120 rows and 5 columns\n"
     ]
    }
   ],
   "source": [
    "import numpy as np\n",
    "\n",
    "all_train_data = np.genfromtxt(\"fleurs_training.csv\", delimiter=\",\")\n",
    "nRow, nCol = all_train_data.shape\n",
    "print(f\"There are {nRow} rows and {nCol} columns\")"
   ]
  },
  {
   "cell_type": "code",
   "execution_count": 39,
   "id": "c4f3f084",
   "metadata": {},
   "outputs": [
    {
     "data": {
      "text/plain": [
       "(120, 4)"
      ]
     },
     "execution_count": 39,
     "metadata": {},
     "output_type": "execute_result"
    }
   ],
   "source": [
    "train_data = all_train_data[:,0:4]\n",
    "train_data.shape"
   ]
  },
  {
   "cell_type": "code",
   "execution_count": 40,
   "id": "9b7874f1",
   "metadata": {},
   "outputs": [
    {
     "data": {
      "text/plain": [
       "(120,)"
      ]
     },
     "execution_count": 40,
     "metadata": {},
     "output_type": "execute_result"
    }
   ],
   "source": [
    "train_labels = all_train_data[:,4]\n",
    "train_labels.shape"
   ]
  },
  {
   "cell_type": "markdown",
   "id": "fdab9f9f",
   "metadata": {},
   "source": [
    "## Données de test (Q2)"
   ]
  },
  {
   "cell_type": "code",
   "execution_count": 41,
   "id": "a5ae5433",
   "metadata": {},
   "outputs": [
    {
     "name": "stdout",
     "output_type": "stream",
     "text": [
      "There are 30 rows and 5 columns\n"
     ]
    }
   ],
   "source": [
    "all_test_data = np.genfromtxt(\"fleurs_test.csv\", delimiter=\",\")\n",
    "nRow, nCol = all_test_data.shape\n",
    "print(f\"There are {nRow} rows and {nCol} columns\")"
   ]
  },
  {
   "cell_type": "code",
   "execution_count": 42,
   "id": "dc050ba9",
   "metadata": {},
   "outputs": [
    {
     "data": {
      "text/plain": [
       "(30, 4)"
      ]
     },
     "execution_count": 42,
     "metadata": {},
     "output_type": "execute_result"
    }
   ],
   "source": [
    "test_data = all_test_data[:,0:4]\n",
    "test_data.shape"
   ]
  },
  {
   "cell_type": "code",
   "execution_count": 43,
   "id": "1e95d781",
   "metadata": {},
   "outputs": [
    {
     "data": {
      "text/plain": [
       "(30,)"
      ]
     },
     "execution_count": 43,
     "metadata": {},
     "output_type": "execute_result"
    }
   ],
   "source": [
    "test_labels = all_test_data[:,4]\n",
    "test_labels.shape"
   ]
  },
  {
   "cell_type": "markdown",
   "id": "6a6489a8",
   "metadata": {},
   "source": [
    "## Normalisation des données"
   ]
  },
  {
   "cell_type": "code",
   "execution_count": 44,
   "id": "421f6052",
   "metadata": {},
   "outputs": [],
   "source": [
    "mean = train_data.mean(axis = 0)\n",
    "train_data -= mean\n",
    "std = train_data.std(axis = 0)\n",
    "train_data /= std\n",
    "test_data -= mean\n",
    "test_data /= std"
   ]
  },
  {
   "cell_type": "markdown",
   "id": "365064fe",
   "metadata": {},
   "source": [
    "## Création du modèle (Q3)"
   ]
  },
  {
   "cell_type": "code",
   "execution_count": 68,
   "id": "1a6f88c1",
   "metadata": {},
   "outputs": [],
   "source": [
    "from tensorflow import keras\n",
    "from tensorflow.keras import layers\n",
    "\n",
    "\"\"\"\n",
    "model = keras.Sequential([\n",
    "    layers.Dense(16, activation=\"relu\"),\n",
    "    layers.Dense(16, activation=\"relu\"),\n",
    "    layers.Dense(3, activation=\"softmax\")\n",
    "])\n",
    "\"\"\"\n",
    "\n",
    "# Mieux dans une fonction\n",
    "def build_model():\n",
    "    model = keras.Sequential([\n",
    "    layers.Dense(32, activation=\"relu\"),\n",
    "    layers.Dense(32, activation=\"relu\"),\n",
    "    layers.Dense(3, activation=\"softmax\")\n",
    "    ])\n",
    "    model.compile(optimizer=\"rmsprop\",\n",
    "                  loss=\"sparse_categorical_crossentropy\",\n",
    "                  metrics=[\"accuracy\"])\n",
    "    return model\n",
    "\n",
    "# Création du modèle à partir de la fonction\n",
    "model = build_model()"
   ]
  },
  {
   "cell_type": "markdown",
   "id": "f9fa8f82",
   "metadata": {},
   "source": [
    "## Compilation du modèle"
   ]
  },
  {
   "cell_type": "code",
   "execution_count": 69,
   "id": "5fa65607",
   "metadata": {},
   "outputs": [],
   "source": [
    "model.compile(optimizer=\"rmsprop\",\n",
    "              loss=\"sparse_categorical_crossentropy\", # Cas similaire au nombres de la feuille 2\n",
    "              metrics=[\"accuracy\"])"
   ]
  },
  {
   "cell_type": "markdown",
   "id": "2b6145f9",
   "metadata": {},
   "source": [
    "## Validation du modèle"
   ]
  },
  {
   "cell_type": "markdown",
   "id": "e87fea85",
   "metadata": {},
   "source": [
    "### Entraînement du modèle"
   ]
  },
  {
   "cell_type": "code",
   "execution_count": 70,
   "id": "9b71f9fe",
   "metadata": {
    "collapsed": true
   },
   "outputs": [
    {
     "name": "stdout",
     "output_type": "stream",
     "text": [
      "Epoch 1/200\n",
      "8/8 [==============================] - 1s 28ms/step - loss: 1.0905 - accuracy: 0.4833 - val_loss: 1.0015 - val_accuracy: 0.6333\n",
      "Epoch 2/200\n",
      "8/8 [==============================] - 0s 7ms/step - loss: 0.9381 - accuracy: 0.7833 - val_loss: 0.9219 - val_accuracy: 0.7000\n",
      "Epoch 3/200\n",
      "8/8 [==============================] - 0s 6ms/step - loss: 0.8450 - accuracy: 0.8000 - val_loss: 0.8588 - val_accuracy: 0.7000\n",
      "Epoch 4/200\n",
      "8/8 [==============================] - 0s 6ms/step - loss: 0.7655 - accuracy: 0.8167 - val_loss: 0.7986 - val_accuracy: 0.7000\n",
      "Epoch 5/200\n",
      "8/8 [==============================] - 0s 7ms/step - loss: 0.6933 - accuracy: 0.8167 - val_loss: 0.7423 - val_accuracy: 0.7000\n",
      "Epoch 6/200\n",
      "8/8 [==============================] - 0s 8ms/step - loss: 0.6259 - accuracy: 0.8167 - val_loss: 0.6908 - val_accuracy: 0.7000\n",
      "Epoch 7/200\n",
      "8/8 [==============================] - 0s 6ms/step - loss: 0.5677 - accuracy: 0.8250 - val_loss: 0.6407 - val_accuracy: 0.7000\n",
      "Epoch 8/200\n",
      "8/8 [==============================] - 0s 7ms/step - loss: 0.5172 - accuracy: 0.8333 - val_loss: 0.5958 - val_accuracy: 0.7333\n",
      "Epoch 9/200\n",
      "8/8 [==============================] - 0s 7ms/step - loss: 0.4720 - accuracy: 0.8417 - val_loss: 0.5561 - val_accuracy: 0.7667\n",
      "Epoch 10/200\n",
      "8/8 [==============================] - 0s 7ms/step - loss: 0.4321 - accuracy: 0.8500 - val_loss: 0.5195 - val_accuracy: 0.8000\n",
      "Epoch 11/200\n",
      "8/8 [==============================] - 0s 6ms/step - loss: 0.3995 - accuracy: 0.8500 - val_loss: 0.4895 - val_accuracy: 0.8333\n",
      "Epoch 12/200\n",
      "8/8 [==============================] - 0s 6ms/step - loss: 0.3709 - accuracy: 0.8667 - val_loss: 0.4610 - val_accuracy: 0.8333\n",
      "Epoch 13/200\n",
      "8/8 [==============================] - 0s 6ms/step - loss: 0.3465 - accuracy: 0.8667 - val_loss: 0.4314 - val_accuracy: 0.8333\n",
      "Epoch 14/200\n",
      "8/8 [==============================] - 0s 6ms/step - loss: 0.3246 - accuracy: 0.8833 - val_loss: 0.4120 - val_accuracy: 0.8333\n",
      "Epoch 15/200\n",
      "8/8 [==============================] - 0s 6ms/step - loss: 0.3097 - accuracy: 0.8750 - val_loss: 0.3892 - val_accuracy: 0.8333\n",
      "Epoch 16/200\n",
      "8/8 [==============================] - 0s 6ms/step - loss: 0.2898 - accuracy: 0.8833 - val_loss: 0.3710 - val_accuracy: 0.8333\n",
      "Epoch 17/200\n",
      "8/8 [==============================] - 0s 6ms/step - loss: 0.2746 - accuracy: 0.8917 - val_loss: 0.3474 - val_accuracy: 0.8333\n",
      "Epoch 18/200\n",
      "8/8 [==============================] - 0s 6ms/step - loss: 0.2636 - accuracy: 0.9000 - val_loss: 0.3306 - val_accuracy: 0.8333\n",
      "Epoch 19/200\n",
      "8/8 [==============================] - 0s 6ms/step - loss: 0.2493 - accuracy: 0.9000 - val_loss: 0.3169 - val_accuracy: 0.8333\n",
      "Epoch 20/200\n",
      "8/8 [==============================] - 0s 7ms/step - loss: 0.2395 - accuracy: 0.9000 - val_loss: 0.3001 - val_accuracy: 0.8333\n",
      "Epoch 21/200\n",
      "8/8 [==============================] - 0s 6ms/step - loss: 0.2275 - accuracy: 0.9083 - val_loss: 0.2887 - val_accuracy: 0.8333\n",
      "Epoch 22/200\n",
      "8/8 [==============================] - 0s 6ms/step - loss: 0.2205 - accuracy: 0.9083 - val_loss: 0.2721 - val_accuracy: 0.9000\n",
      "Epoch 23/200\n",
      "8/8 [==============================] - 0s 6ms/step - loss: 0.2097 - accuracy: 0.9250 - val_loss: 0.2581 - val_accuracy: 0.9000\n",
      "Epoch 24/200\n",
      "8/8 [==============================] - 0s 6ms/step - loss: 0.1997 - accuracy: 0.9333 - val_loss: 0.2444 - val_accuracy: 0.9667\n",
      "Epoch 25/200\n",
      "8/8 [==============================] - 0s 6ms/step - loss: 0.1924 - accuracy: 0.9417 - val_loss: 0.2343 - val_accuracy: 0.9667\n",
      "Epoch 26/200\n",
      "8/8 [==============================] - 0s 6ms/step - loss: 0.1832 - accuracy: 0.9417 - val_loss: 0.2198 - val_accuracy: 0.9667\n",
      "Epoch 27/200\n",
      "8/8 [==============================] - 0s 6ms/step - loss: 0.1755 - accuracy: 0.9417 - val_loss: 0.2095 - val_accuracy: 0.9667\n",
      "Epoch 28/200\n",
      "8/8 [==============================] - 0s 6ms/step - loss: 0.1706 - accuracy: 0.9417 - val_loss: 0.1972 - val_accuracy: 1.0000\n",
      "Epoch 29/200\n",
      "8/8 [==============================] - 0s 7ms/step - loss: 0.1620 - accuracy: 0.9417 - val_loss: 0.1899 - val_accuracy: 1.0000\n",
      "Epoch 30/200\n",
      "8/8 [==============================] - 0s 6ms/step - loss: 0.1569 - accuracy: 0.9500 - val_loss: 0.1793 - val_accuracy: 1.0000\n",
      "Epoch 31/200\n",
      "8/8 [==============================] - 0s 6ms/step - loss: 0.1505 - accuracy: 0.9500 - val_loss: 0.1706 - val_accuracy: 1.0000\n",
      "Epoch 32/200\n",
      "8/8 [==============================] - 0s 6ms/step - loss: 0.1464 - accuracy: 0.9417 - val_loss: 0.1650 - val_accuracy: 1.0000\n",
      "Epoch 33/200\n",
      "8/8 [==============================] - 0s 6ms/step - loss: 0.1405 - accuracy: 0.9500 - val_loss: 0.1587 - val_accuracy: 1.0000\n",
      "Epoch 34/200\n",
      "8/8 [==============================] - 0s 6ms/step - loss: 0.1359 - accuracy: 0.9500 - val_loss: 0.1490 - val_accuracy: 1.0000\n",
      "Epoch 35/200\n",
      "8/8 [==============================] - 0s 6ms/step - loss: 0.1317 - accuracy: 0.9500 - val_loss: 0.1430 - val_accuracy: 1.0000\n",
      "Epoch 36/200\n",
      "8/8 [==============================] - 0s 6ms/step - loss: 0.1286 - accuracy: 0.9500 - val_loss: 0.1412 - val_accuracy: 1.0000\n",
      "Epoch 37/200\n",
      "8/8 [==============================] - 0s 6ms/step - loss: 0.1218 - accuracy: 0.9583 - val_loss: 0.1340 - val_accuracy: 1.0000\n",
      "Epoch 38/200\n",
      "8/8 [==============================] - 0s 6ms/step - loss: 0.1181 - accuracy: 0.9583 - val_loss: 0.1284 - val_accuracy: 1.0000\n",
      "Epoch 39/200\n",
      "8/8 [==============================] - 0s 5ms/step - loss: 0.1165 - accuracy: 0.9583 - val_loss: 0.1248 - val_accuracy: 1.0000\n",
      "Epoch 40/200\n",
      "8/8 [==============================] - 0s 5ms/step - loss: 0.1116 - accuracy: 0.9583 - val_loss: 0.1193 - val_accuracy: 1.0000\n",
      "Epoch 41/200\n",
      "8/8 [==============================] - 0s 5ms/step - loss: 0.1084 - accuracy: 0.9667 - val_loss: 0.1111 - val_accuracy: 0.9667\n",
      "Epoch 42/200\n",
      "8/8 [==============================] - 0s 5ms/step - loss: 0.1049 - accuracy: 0.9667 - val_loss: 0.1069 - val_accuracy: 0.9667\n",
      "Epoch 43/200\n",
      "8/8 [==============================] - 0s 5ms/step - loss: 0.1034 - accuracy: 0.9667 - val_loss: 0.1044 - val_accuracy: 0.9667\n",
      "Epoch 44/200\n",
      "8/8 [==============================] - 0s 6ms/step - loss: 0.0993 - accuracy: 0.9667 - val_loss: 0.0997 - val_accuracy: 0.9667\n",
      "Epoch 45/200\n",
      "8/8 [==============================] - 0s 5ms/step - loss: 0.0968 - accuracy: 0.9667 - val_loss: 0.1004 - val_accuracy: 1.0000\n",
      "Epoch 46/200\n",
      "8/8 [==============================] - 0s 5ms/step - loss: 0.0946 - accuracy: 0.9667 - val_loss: 0.0931 - val_accuracy: 0.9667\n",
      "Epoch 47/200\n",
      "8/8 [==============================] - 0s 5ms/step - loss: 0.0920 - accuracy: 0.9667 - val_loss: 0.0912 - val_accuracy: 0.9667\n",
      "Epoch 48/200\n",
      "8/8 [==============================] - 0s 6ms/step - loss: 0.0923 - accuracy: 0.9667 - val_loss: 0.0906 - val_accuracy: 1.0000\n",
      "Epoch 49/200\n",
      "8/8 [==============================] - 0s 6ms/step - loss: 0.0908 - accuracy: 0.9667 - val_loss: 0.0867 - val_accuracy: 0.9667\n",
      "Epoch 50/200\n",
      "8/8 [==============================] - 0s 6ms/step - loss: 0.0870 - accuracy: 0.9667 - val_loss: 0.0854 - val_accuracy: 0.9667\n",
      "Epoch 51/200\n",
      "8/8 [==============================] - 0s 6ms/step - loss: 0.0845 - accuracy: 0.9667 - val_loss: 0.0827 - val_accuracy: 0.9667\n",
      "Epoch 52/200\n",
      "8/8 [==============================] - 0s 5ms/step - loss: 0.0836 - accuracy: 0.9667 - val_loss: 0.0800 - val_accuracy: 0.9667\n",
      "Epoch 53/200\n",
      "8/8 [==============================] - 0s 6ms/step - loss: 0.0824 - accuracy: 0.9667 - val_loss: 0.0788 - val_accuracy: 0.9667\n",
      "Epoch 54/200\n",
      "8/8 [==============================] - 0s 5ms/step - loss: 0.0798 - accuracy: 0.9750 - val_loss: 0.0800 - val_accuracy: 1.0000\n",
      "Epoch 55/200\n",
      "8/8 [==============================] - 0s 5ms/step - loss: 0.0797 - accuracy: 0.9750 - val_loss: 0.0747 - val_accuracy: 0.9667\n",
      "Epoch 56/200\n",
      "8/8 [==============================] - 0s 6ms/step - loss: 0.0782 - accuracy: 0.9750 - val_loss: 0.0764 - val_accuracy: 1.0000\n",
      "Epoch 57/200\n",
      "8/8 [==============================] - 0s 7ms/step - loss: 0.0746 - accuracy: 0.9833 - val_loss: 0.0722 - val_accuracy: 0.9667\n",
      "Epoch 58/200\n",
      "8/8 [==============================] - 0s 5ms/step - loss: 0.0773 - accuracy: 0.9750 - val_loss: 0.0728 - val_accuracy: 1.0000\n",
      "Epoch 59/200\n"
     ]
    },
    {
     "name": "stdout",
     "output_type": "stream",
     "text": [
      "8/8 [==============================] - 0s 5ms/step - loss: 0.0717 - accuracy: 0.9833 - val_loss: 0.0699 - val_accuracy: 0.9667\n",
      "Epoch 60/200\n",
      "8/8 [==============================] - 0s 6ms/step - loss: 0.0726 - accuracy: 0.9833 - val_loss: 0.0683 - val_accuracy: 0.9667\n",
      "Epoch 61/200\n",
      "8/8 [==============================] - 0s 5ms/step - loss: 0.0713 - accuracy: 0.9750 - val_loss: 0.0675 - val_accuracy: 0.9667\n",
      "Epoch 62/200\n",
      "8/8 [==============================] - 0s 6ms/step - loss: 0.0694 - accuracy: 0.9833 - val_loss: 0.0661 - val_accuracy: 0.9667\n",
      "Epoch 63/200\n",
      "8/8 [==============================] - 0s 6ms/step - loss: 0.0672 - accuracy: 0.9833 - val_loss: 0.0649 - val_accuracy: 0.9667\n",
      "Epoch 64/200\n",
      "8/8 [==============================] - 0s 5ms/step - loss: 0.0696 - accuracy: 0.9750 - val_loss: 0.0648 - val_accuracy: 0.9667\n",
      "Epoch 65/200\n",
      "8/8 [==============================] - 0s 6ms/step - loss: 0.0656 - accuracy: 0.9833 - val_loss: 0.0644 - val_accuracy: 0.9667\n",
      "Epoch 66/200\n",
      "8/8 [==============================] - 0s 5ms/step - loss: 0.0657 - accuracy: 0.9833 - val_loss: 0.0639 - val_accuracy: 1.0000\n",
      "Epoch 67/200\n",
      "8/8 [==============================] - 0s 6ms/step - loss: 0.0627 - accuracy: 0.9833 - val_loss: 0.0612 - val_accuracy: 0.9667\n",
      "Epoch 68/200\n",
      "8/8 [==============================] - 0s 6ms/step - loss: 0.0638 - accuracy: 0.9833 - val_loss: 0.0604 - val_accuracy: 0.9667\n",
      "Epoch 69/200\n",
      "8/8 [==============================] - 0s 6ms/step - loss: 0.0625 - accuracy: 0.9833 - val_loss: 0.0600 - val_accuracy: 0.9667\n",
      "Epoch 70/200\n",
      "8/8 [==============================] - 0s 6ms/step - loss: 0.0607 - accuracy: 0.9833 - val_loss: 0.0600 - val_accuracy: 0.9667\n",
      "Epoch 71/200\n",
      "8/8 [==============================] - 0s 6ms/step - loss: 0.0595 - accuracy: 0.9833 - val_loss: 0.0583 - val_accuracy: 0.9667\n",
      "Epoch 72/200\n",
      "8/8 [==============================] - 0s 5ms/step - loss: 0.0588 - accuracy: 0.9750 - val_loss: 0.0597 - val_accuracy: 1.0000\n",
      "Epoch 73/200\n",
      "8/8 [==============================] - 0s 6ms/step - loss: 0.0609 - accuracy: 0.9833 - val_loss: 0.0584 - val_accuracy: 1.0000\n",
      "Epoch 74/200\n",
      "8/8 [==============================] - 0s 6ms/step - loss: 0.0582 - accuracy: 0.9833 - val_loss: 0.0575 - val_accuracy: 0.9667\n",
      "Epoch 75/200\n",
      "8/8 [==============================] - 0s 6ms/step - loss: 0.0568 - accuracy: 0.9833 - val_loss: 0.0569 - val_accuracy: 0.9667\n",
      "Epoch 76/200\n",
      "8/8 [==============================] - 0s 6ms/step - loss: 0.0578 - accuracy: 0.9833 - val_loss: 0.0577 - val_accuracy: 0.9667\n",
      "Epoch 77/200\n",
      "8/8 [==============================] - 0s 6ms/step - loss: 0.0563 - accuracy: 0.9750 - val_loss: 0.0565 - val_accuracy: 0.9667\n",
      "Epoch 78/200\n",
      "8/8 [==============================] - 0s 6ms/step - loss: 0.0545 - accuracy: 0.9833 - val_loss: 0.0574 - val_accuracy: 0.9667\n",
      "Epoch 79/200\n",
      "8/8 [==============================] - 0s 6ms/step - loss: 0.0541 - accuracy: 0.9750 - val_loss: 0.0553 - val_accuracy: 0.9667\n",
      "Epoch 80/200\n",
      "8/8 [==============================] - 0s 5ms/step - loss: 0.0537 - accuracy: 0.9833 - val_loss: 0.0552 - val_accuracy: 0.9667\n",
      "Epoch 81/200\n",
      "8/8 [==============================] - 0s 6ms/step - loss: 0.0518 - accuracy: 0.9833 - val_loss: 0.0550 - val_accuracy: 0.9667\n",
      "Epoch 82/200\n",
      "8/8 [==============================] - 0s 6ms/step - loss: 0.0527 - accuracy: 0.9833 - val_loss: 0.0551 - val_accuracy: 0.9667\n",
      "Epoch 83/200\n",
      "8/8 [==============================] - 0s 5ms/step - loss: 0.0516 - accuracy: 0.9833 - val_loss: 0.0543 - val_accuracy: 0.9667\n",
      "Epoch 84/200\n",
      "8/8 [==============================] - 0s 6ms/step - loss: 0.0525 - accuracy: 0.9833 - val_loss: 0.0543 - val_accuracy: 0.9667\n",
      "Epoch 85/200\n",
      "8/8 [==============================] - 0s 5ms/step - loss: 0.0511 - accuracy: 0.9833 - val_loss: 0.0543 - val_accuracy: 0.9667\n",
      "Epoch 86/200\n",
      "8/8 [==============================] - 0s 6ms/step - loss: 0.0520 - accuracy: 0.9833 - val_loss: 0.0541 - val_accuracy: 0.9667\n",
      "Epoch 87/200\n",
      "8/8 [==============================] - 0s 6ms/step - loss: 0.0509 - accuracy: 0.9833 - val_loss: 0.0534 - val_accuracy: 0.9667\n",
      "Epoch 88/200\n",
      "8/8 [==============================] - 0s 5ms/step - loss: 0.0501 - accuracy: 0.9833 - val_loss: 0.0525 - val_accuracy: 0.9667\n",
      "Epoch 89/200\n",
      "8/8 [==============================] - 0s 6ms/step - loss: 0.0502 - accuracy: 0.9833 - val_loss: 0.0523 - val_accuracy: 0.9667\n",
      "Epoch 90/200\n",
      "8/8 [==============================] - 0s 5ms/step - loss: 0.0475 - accuracy: 0.9833 - val_loss: 0.0518 - val_accuracy: 0.9667\n",
      "Epoch 91/200\n",
      "8/8 [==============================] - 0s 6ms/step - loss: 0.0479 - accuracy: 0.9833 - val_loss: 0.0515 - val_accuracy: 0.9667\n",
      "Epoch 92/200\n",
      "8/8 [==============================] - 0s 6ms/step - loss: 0.0486 - accuracy: 0.9833 - val_loss: 0.0521 - val_accuracy: 0.9667\n",
      "Epoch 93/200\n",
      "8/8 [==============================] - 0s 6ms/step - loss: 0.0507 - accuracy: 0.9750 - val_loss: 0.0519 - val_accuracy: 0.9667\n",
      "Epoch 94/200\n",
      "8/8 [==============================] - 0s 6ms/step - loss: 0.0485 - accuracy: 0.9833 - val_loss: 0.0526 - val_accuracy: 0.9667\n",
      "Epoch 95/200\n",
      "8/8 [==============================] - 0s 6ms/step - loss: 0.0463 - accuracy: 0.9833 - val_loss: 0.0524 - val_accuracy: 0.9667\n",
      "Epoch 96/200\n",
      "8/8 [==============================] - 0s 6ms/step - loss: 0.0444 - accuracy: 0.9833 - val_loss: 0.0530 - val_accuracy: 0.9667\n",
      "Epoch 97/200\n",
      "8/8 [==============================] - 0s 6ms/step - loss: 0.0457 - accuracy: 0.9917 - val_loss: 0.0541 - val_accuracy: 0.9667\n",
      "Epoch 98/200\n",
      "8/8 [==============================] - 0s 6ms/step - loss: 0.0445 - accuracy: 0.9917 - val_loss: 0.0505 - val_accuracy: 0.9667\n",
      "Epoch 99/200\n",
      "8/8 [==============================] - 0s 5ms/step - loss: 0.0461 - accuracy: 0.9833 - val_loss: 0.0534 - val_accuracy: 0.9667\n",
      "Epoch 100/200\n",
      "8/8 [==============================] - 0s 6ms/step - loss: 0.0455 - accuracy: 0.9833 - val_loss: 0.0567 - val_accuracy: 0.9667\n",
      "Epoch 101/200\n",
      "8/8 [==============================] - 0s 6ms/step - loss: 0.0457 - accuracy: 0.9833 - val_loss: 0.0517 - val_accuracy: 0.9667\n",
      "Epoch 102/200\n",
      "8/8 [==============================] - 0s 5ms/step - loss: 0.0428 - accuracy: 0.9833 - val_loss: 0.0516 - val_accuracy: 0.9667\n",
      "Epoch 103/200\n",
      "8/8 [==============================] - 0s 6ms/step - loss: 0.0437 - accuracy: 0.9833 - val_loss: 0.0507 - val_accuracy: 0.9667\n",
      "Epoch 104/200\n",
      "8/8 [==============================] - 0s 5ms/step - loss: 0.0454 - accuracy: 0.9833 - val_loss: 0.0505 - val_accuracy: 0.9667\n",
      "Epoch 105/200\n",
      "8/8 [==============================] - 0s 6ms/step - loss: 0.0414 - accuracy: 0.9833 - val_loss: 0.0564 - val_accuracy: 0.9667\n",
      "Epoch 106/200\n",
      "8/8 [==============================] - 0s 6ms/step - loss: 0.0420 - accuracy: 0.9833 - val_loss: 0.0511 - val_accuracy: 0.9667\n",
      "Epoch 107/200\n",
      "8/8 [==============================] - 0s 5ms/step - loss: 0.0406 - accuracy: 0.9917 - val_loss: 0.0510 - val_accuracy: 0.9667\n",
      "Epoch 108/200\n",
      "8/8 [==============================] - 0s 6ms/step - loss: 0.0433 - accuracy: 0.9833 - val_loss: 0.0500 - val_accuracy: 0.9667\n",
      "Epoch 109/200\n",
      "8/8 [==============================] - 0s 6ms/step - loss: 0.0424 - accuracy: 0.9833 - val_loss: 0.0543 - val_accuracy: 0.9667\n",
      "Epoch 110/200\n",
      "8/8 [==============================] - 0s 6ms/step - loss: 0.0422 - accuracy: 0.9917 - val_loss: 0.0514 - val_accuracy: 0.9667\n",
      "Epoch 111/200\n",
      "8/8 [==============================] - 0s 5ms/step - loss: 0.0401 - accuracy: 0.9917 - val_loss: 0.0511 - val_accuracy: 0.9667\n",
      "Epoch 112/200\n",
      "8/8 [==============================] - 0s 5ms/step - loss: 0.0420 - accuracy: 0.9833 - val_loss: 0.0538 - val_accuracy: 0.9667\n",
      "Epoch 113/200\n",
      "8/8 [==============================] - 0s 6ms/step - loss: 0.0424 - accuracy: 0.9917 - val_loss: 0.0503 - val_accuracy: 0.9667\n",
      "Epoch 114/200\n",
      "8/8 [==============================] - 0s 5ms/step - loss: 0.0409 - accuracy: 0.9833 - val_loss: 0.0500 - val_accuracy: 0.9667\n",
      "Epoch 115/200\n",
      "8/8 [==============================] - 0s 5ms/step - loss: 0.0393 - accuracy: 0.9833 - val_loss: 0.0524 - val_accuracy: 0.9667\n",
      "Epoch 116/200\n",
      "8/8 [==============================] - 0s 6ms/step - loss: 0.0452 - accuracy: 0.9833 - val_loss: 0.0521 - val_accuracy: 0.9667\n",
      "Epoch 117/200\n"
     ]
    },
    {
     "name": "stdout",
     "output_type": "stream",
     "text": [
      "8/8 [==============================] - 0s 5ms/step - loss: 0.0382 - accuracy: 0.9917 - val_loss: 0.0530 - val_accuracy: 0.9667\n",
      "Epoch 118/200\n",
      "8/8 [==============================] - 0s 6ms/step - loss: 0.0391 - accuracy: 0.9917 - val_loss: 0.0483 - val_accuracy: 0.9667\n",
      "Epoch 119/200\n",
      "8/8 [==============================] - 0s 5ms/step - loss: 0.0401 - accuracy: 0.9833 - val_loss: 0.0517 - val_accuracy: 0.9667\n",
      "Epoch 120/200\n",
      "8/8 [==============================] - 0s 6ms/step - loss: 0.0386 - accuracy: 0.9917 - val_loss: 0.0533 - val_accuracy: 0.9667\n",
      "Epoch 121/200\n",
      "8/8 [==============================] - 0s 6ms/step - loss: 0.0384 - accuracy: 0.9917 - val_loss: 0.0517 - val_accuracy: 0.9667\n",
      "Epoch 122/200\n",
      "8/8 [==============================] - 0s 5ms/step - loss: 0.0398 - accuracy: 0.9917 - val_loss: 0.0478 - val_accuracy: 0.9667\n",
      "Epoch 123/200\n",
      "8/8 [==============================] - 0s 6ms/step - loss: 0.0383 - accuracy: 0.9833 - val_loss: 0.0506 - val_accuracy: 0.9667\n",
      "Epoch 124/200\n",
      "8/8 [==============================] - 0s 6ms/step - loss: 0.0377 - accuracy: 0.9917 - val_loss: 0.0521 - val_accuracy: 0.9667\n",
      "Epoch 125/200\n",
      "8/8 [==============================] - 0s 5ms/step - loss: 0.0395 - accuracy: 0.9917 - val_loss: 0.0523 - val_accuracy: 0.9667\n",
      "Epoch 126/200\n",
      "8/8 [==============================] - 0s 6ms/step - loss: 0.0384 - accuracy: 0.9917 - val_loss: 0.0507 - val_accuracy: 0.9667\n",
      "Epoch 127/200\n",
      "8/8 [==============================] - 0s 5ms/step - loss: 0.0380 - accuracy: 0.9833 - val_loss: 0.0535 - val_accuracy: 0.9667\n",
      "Epoch 128/200\n",
      "8/8 [==============================] - 0s 6ms/step - loss: 0.0375 - accuracy: 0.9917 - val_loss: 0.0475 - val_accuracy: 0.9667\n",
      "Epoch 129/200\n",
      "8/8 [==============================] - 0s 5ms/step - loss: 0.0383 - accuracy: 0.9833 - val_loss: 0.0487 - val_accuracy: 0.9667\n",
      "Epoch 130/200\n",
      "8/8 [==============================] - 0s 5ms/step - loss: 0.0375 - accuracy: 0.9833 - val_loss: 0.0523 - val_accuracy: 0.9667\n",
      "Epoch 131/200\n",
      "8/8 [==============================] - 0s 6ms/step - loss: 0.0388 - accuracy: 0.9917 - val_loss: 0.0531 - val_accuracy: 0.9667\n",
      "Epoch 132/200\n",
      "8/8 [==============================] - 0s 5ms/step - loss: 0.0372 - accuracy: 0.9833 - val_loss: 0.0615 - val_accuracy: 0.9667\n",
      "Epoch 133/200\n",
      "8/8 [==============================] - 0s 6ms/step - loss: 0.0365 - accuracy: 0.9917 - val_loss: 0.0636 - val_accuracy: 0.9667\n",
      "Epoch 134/200\n",
      "8/8 [==============================] - 0s 6ms/step - loss: 0.0364 - accuracy: 0.9917 - val_loss: 0.0541 - val_accuracy: 0.9667\n",
      "Epoch 135/200\n",
      "8/8 [==============================] - 0s 5ms/step - loss: 0.0375 - accuracy: 0.9917 - val_loss: 0.0517 - val_accuracy: 0.9667\n",
      "Epoch 136/200\n",
      "8/8 [==============================] - 0s 6ms/step - loss: 0.0377 - accuracy: 0.9833 - val_loss: 0.0532 - val_accuracy: 0.9667\n",
      "Epoch 137/200\n",
      "8/8 [==============================] - 0s 6ms/step - loss: 0.0360 - accuracy: 0.9917 - val_loss: 0.0502 - val_accuracy: 0.9667\n",
      "Epoch 138/200\n",
      "8/8 [==============================] - 0s 5ms/step - loss: 0.0361 - accuracy: 0.9833 - val_loss: 0.0514 - val_accuracy: 0.9667\n",
      "Epoch 139/200\n",
      "8/8 [==============================] - 0s 6ms/step - loss: 0.0354 - accuracy: 0.9917 - val_loss: 0.0485 - val_accuracy: 0.9667\n",
      "Epoch 140/200\n",
      "8/8 [==============================] - 0s 5ms/step - loss: 0.0364 - accuracy: 0.9917 - val_loss: 0.0506 - val_accuracy: 0.9667\n",
      "Epoch 141/200\n",
      "8/8 [==============================] - 0s 6ms/step - loss: 0.0377 - accuracy: 0.9917 - val_loss: 0.0511 - val_accuracy: 0.9667\n",
      "Epoch 142/200\n",
      "8/8 [==============================] - 0s 5ms/step - loss: 0.0344 - accuracy: 0.9833 - val_loss: 0.0551 - val_accuracy: 0.9667\n",
      "Epoch 143/200\n",
      "8/8 [==============================] - 0s 5ms/step - loss: 0.0365 - accuracy: 0.9917 - val_loss: 0.0565 - val_accuracy: 0.9667\n",
      "Epoch 144/200\n",
      "8/8 [==============================] - 0s 6ms/step - loss: 0.0378 - accuracy: 0.9917 - val_loss: 0.0530 - val_accuracy: 0.9667\n",
      "Epoch 145/200\n",
      "8/8 [==============================] - 0s 5ms/step - loss: 0.0351 - accuracy: 0.9917 - val_loss: 0.0514 - val_accuracy: 0.9667\n",
      "Epoch 146/200\n",
      "8/8 [==============================] - 0s 6ms/step - loss: 0.0346 - accuracy: 0.9917 - val_loss: 0.0594 - val_accuracy: 0.9667\n",
      "Epoch 147/200\n",
      "8/8 [==============================] - 0s 6ms/step - loss: 0.0362 - accuracy: 0.9917 - val_loss: 0.0504 - val_accuracy: 0.9667\n",
      "Epoch 148/200\n",
      "8/8 [==============================] - 0s 6ms/step - loss: 0.0329 - accuracy: 0.9917 - val_loss: 0.0541 - val_accuracy: 0.9667\n",
      "Epoch 149/200\n",
      "8/8 [==============================] - 0s 6ms/step - loss: 0.0338 - accuracy: 0.9917 - val_loss: 0.0556 - val_accuracy: 0.9667\n",
      "Epoch 150/200\n",
      "8/8 [==============================] - 0s 6ms/step - loss: 0.0349 - accuracy: 0.9917 - val_loss: 0.0515 - val_accuracy: 0.9667\n",
      "Epoch 151/200\n",
      "8/8 [==============================] - 0s 6ms/step - loss: 0.0352 - accuracy: 0.9917 - val_loss: 0.0508 - val_accuracy: 0.9667\n",
      "Epoch 152/200\n",
      "8/8 [==============================] - 0s 6ms/step - loss: 0.0346 - accuracy: 0.9833 - val_loss: 0.0506 - val_accuracy: 0.9667\n",
      "Epoch 153/200\n",
      "8/8 [==============================] - 0s 6ms/step - loss: 0.0344 - accuracy: 0.9917 - val_loss: 0.0515 - val_accuracy: 0.9667\n",
      "Epoch 154/200\n",
      "8/8 [==============================] - 0s 6ms/step - loss: 0.0326 - accuracy: 0.9833 - val_loss: 0.0574 - val_accuracy: 0.9667\n",
      "Epoch 155/200\n",
      "8/8 [==============================] - 0s 6ms/step - loss: 0.0333 - accuracy: 0.9917 - val_loss: 0.0535 - val_accuracy: 0.9667\n",
      "Epoch 156/200\n",
      "8/8 [==============================] - 0s 6ms/step - loss: 0.0348 - accuracy: 0.9917 - val_loss: 0.0516 - val_accuracy: 0.9667\n",
      "Epoch 157/200\n",
      "8/8 [==============================] - 0s 6ms/step - loss: 0.0341 - accuracy: 0.9917 - val_loss: 0.0524 - val_accuracy: 0.9667\n",
      "Epoch 158/200\n",
      "8/8 [==============================] - 0s 6ms/step - loss: 0.0333 - accuracy: 0.9917 - val_loss: 0.0522 - val_accuracy: 0.9667\n",
      "Epoch 159/200\n",
      "8/8 [==============================] - 0s 6ms/step - loss: 0.0319 - accuracy: 0.9917 - val_loss: 0.0603 - val_accuracy: 0.9667\n",
      "Epoch 160/200\n",
      "8/8 [==============================] - 0s 6ms/step - loss: 0.0324 - accuracy: 0.9917 - val_loss: 0.0645 - val_accuracy: 0.9667\n",
      "Epoch 161/200\n",
      "8/8 [==============================] - 0s 5ms/step - loss: 0.0329 - accuracy: 0.9917 - val_loss: 0.0679 - val_accuracy: 0.9667\n",
      "Epoch 162/200\n",
      "8/8 [==============================] - 0s 14ms/step - loss: 0.0340 - accuracy: 0.9917 - val_loss: 0.0563 - val_accuracy: 0.9667\n",
      "Epoch 163/200\n",
      "8/8 [==============================] - 0s 9ms/step - loss: 0.0325 - accuracy: 0.9917 - val_loss: 0.0532 - val_accuracy: 0.9667\n",
      "Epoch 164/200\n",
      "8/8 [==============================] - 0s 9ms/step - loss: 0.0314 - accuracy: 0.9917 - val_loss: 0.0540 - val_accuracy: 0.9667\n",
      "Epoch 165/200\n",
      "8/8 [==============================] - 0s 6ms/step - loss: 0.0322 - accuracy: 0.9917 - val_loss: 0.0567 - val_accuracy: 0.9667\n",
      "Epoch 166/200\n",
      "8/8 [==============================] - 0s 7ms/step - loss: 0.0320 - accuracy: 0.9917 - val_loss: 0.0539 - val_accuracy: 0.9667\n",
      "Epoch 167/200\n",
      "8/8 [==============================] - 0s 6ms/step - loss: 0.0317 - accuracy: 0.9917 - val_loss: 0.0587 - val_accuracy: 0.9667\n",
      "Epoch 168/200\n",
      "8/8 [==============================] - 0s 5ms/step - loss: 0.0317 - accuracy: 0.9917 - val_loss: 0.0557 - val_accuracy: 0.9667\n",
      "Epoch 169/200\n",
      "8/8 [==============================] - 0s 6ms/step - loss: 0.0327 - accuracy: 0.9917 - val_loss: 0.0620 - val_accuracy: 0.9667\n",
      "Epoch 170/200\n",
      "8/8 [==============================] - 0s 5ms/step - loss: 0.0319 - accuracy: 0.9917 - val_loss: 0.0589 - val_accuracy: 0.9667\n",
      "Epoch 171/200\n",
      "8/8 [==============================] - 0s 5ms/step - loss: 0.0297 - accuracy: 0.9917 - val_loss: 0.0648 - val_accuracy: 0.9667\n",
      "Epoch 172/200\n",
      "8/8 [==============================] - 0s 6ms/step - loss: 0.0306 - accuracy: 0.9917 - val_loss: 0.0574 - val_accuracy: 0.9667\n",
      "Epoch 173/200\n",
      "8/8 [==============================] - 0s 5ms/step - loss: 0.0327 - accuracy: 0.9917 - val_loss: 0.0609 - val_accuracy: 0.9667\n",
      "Epoch 174/200\n",
      "8/8 [==============================] - 0s 6ms/step - loss: 0.0318 - accuracy: 0.9917 - val_loss: 0.0534 - val_accuracy: 0.9667\n",
      "Epoch 175/200\n"
     ]
    },
    {
     "name": "stdout",
     "output_type": "stream",
     "text": [
      "8/8 [==============================] - 0s 6ms/step - loss: 0.0344 - accuracy: 0.9833 - val_loss: 0.0569 - val_accuracy: 0.9667\n",
      "Epoch 176/200\n",
      "8/8 [==============================] - 0s 6ms/step - loss: 0.0313 - accuracy: 0.9917 - val_loss: 0.0583 - val_accuracy: 0.9667\n",
      "Epoch 177/200\n",
      "8/8 [==============================] - 0s 6ms/step - loss: 0.0301 - accuracy: 0.9917 - val_loss: 0.0548 - val_accuracy: 0.9667\n",
      "Epoch 178/200\n",
      "8/8 [==============================] - 0s 6ms/step - loss: 0.0310 - accuracy: 0.9917 - val_loss: 0.0624 - val_accuracy: 0.9667\n",
      "Epoch 179/200\n",
      "8/8 [==============================] - 0s 5ms/step - loss: 0.0299 - accuracy: 0.9917 - val_loss: 0.0644 - val_accuracy: 0.9667\n",
      "Epoch 180/200\n",
      "8/8 [==============================] - 0s 6ms/step - loss: 0.0308 - accuracy: 0.9833 - val_loss: 0.0688 - val_accuracy: 0.9667\n",
      "Epoch 181/200\n",
      "8/8 [==============================] - 0s 5ms/step - loss: 0.0307 - accuracy: 0.9917 - val_loss: 0.0608 - val_accuracy: 0.9667\n",
      "Epoch 182/200\n",
      "8/8 [==============================] - 0s 6ms/step - loss: 0.0283 - accuracy: 0.9917 - val_loss: 0.0529 - val_accuracy: 0.9667\n",
      "Epoch 183/200\n",
      "8/8 [==============================] - 0s 5ms/step - loss: 0.0311 - accuracy: 0.9917 - val_loss: 0.0661 - val_accuracy: 0.9667\n",
      "Epoch 184/200\n",
      "8/8 [==============================] - 0s 5ms/step - loss: 0.0309 - accuracy: 0.9917 - val_loss: 0.0627 - val_accuracy: 0.9667\n",
      "Epoch 185/200\n",
      "8/8 [==============================] - 0s 6ms/step - loss: 0.0282 - accuracy: 0.9917 - val_loss: 0.0581 - val_accuracy: 0.9667\n",
      "Epoch 186/200\n",
      "8/8 [==============================] - 0s 5ms/step - loss: 0.0304 - accuracy: 0.9917 - val_loss: 0.0577 - val_accuracy: 0.9667\n",
      "Epoch 187/200\n",
      "8/8 [==============================] - 0s 6ms/step - loss: 0.0305 - accuracy: 0.9917 - val_loss: 0.0658 - val_accuracy: 0.9667\n",
      "Epoch 188/200\n",
      "8/8 [==============================] - 0s 5ms/step - loss: 0.0284 - accuracy: 0.9917 - val_loss: 0.0606 - val_accuracy: 0.9667\n",
      "Epoch 189/200\n",
      "8/8 [==============================] - 0s 5ms/step - loss: 0.0299 - accuracy: 0.9917 - val_loss: 0.0553 - val_accuracy: 0.9667\n",
      "Epoch 190/200\n",
      "8/8 [==============================] - 0s 6ms/step - loss: 0.0287 - accuracy: 0.9917 - val_loss: 0.0594 - val_accuracy: 0.9667\n",
      "Epoch 191/200\n",
      "8/8 [==============================] - 0s 5ms/step - loss: 0.0293 - accuracy: 0.9917 - val_loss: 0.0541 - val_accuracy: 0.9667\n",
      "Epoch 192/200\n",
      "8/8 [==============================] - 0s 6ms/step - loss: 0.0298 - accuracy: 0.9917 - val_loss: 0.0568 - val_accuracy: 0.9667\n",
      "Epoch 193/200\n",
      "8/8 [==============================] - 0s 5ms/step - loss: 0.0288 - accuracy: 0.9833 - val_loss: 0.0746 - val_accuracy: 0.9667\n",
      "Epoch 194/200\n",
      "8/8 [==============================] - 0s 5ms/step - loss: 0.0297 - accuracy: 0.9917 - val_loss: 0.0661 - val_accuracy: 0.9667\n",
      "Epoch 195/200\n",
      "8/8 [==============================] - 0s 6ms/step - loss: 0.0299 - accuracy: 0.9917 - val_loss: 0.0617 - val_accuracy: 0.9667\n",
      "Epoch 196/200\n",
      "8/8 [==============================] - 0s 5ms/step - loss: 0.0295 - accuracy: 0.9917 - val_loss: 0.0660 - val_accuracy: 0.9667\n",
      "Epoch 197/200\n",
      "8/8 [==============================] - 0s 6ms/step - loss: 0.0289 - accuracy: 0.9917 - val_loss: 0.0620 - val_accuracy: 0.9667\n",
      "Epoch 198/200\n",
      "8/8 [==============================] - 0s 5ms/step - loss: 0.0283 - accuracy: 0.9917 - val_loss: 0.0604 - val_accuracy: 0.9667\n",
      "Epoch 199/200\n",
      "8/8 [==============================] - 0s 6ms/step - loss: 0.0295 - accuracy: 0.9917 - val_loss: 0.0674 - val_accuracy: 0.9667\n",
      "Epoch 200/200\n",
      "8/8 [==============================] - 0s 6ms/step - loss: 0.0275 - accuracy: 0.9917 - val_loss: 0.0697 - val_accuracy: 0.9667\n"
     ]
    }
   ],
   "source": [
    "history = model.fit(train_data, # Les données pour l'entraînement\n",
    "                    train_labels, # Les espèces de fleur\n",
    "                    epochs=200,\n",
    "                    batch_size=16, # Batch : lot de données\n",
    "                    validation_data=(test_data, test_labels)) # Les données de test"
   ]
  },
  {
   "cell_type": "markdown",
   "id": "7c646159",
   "metadata": {},
   "source": [
    "### Affichage de la training et validation loss"
   ]
  },
  {
   "cell_type": "code",
   "execution_count": 71,
   "id": "7d53c9e0",
   "metadata": {},
   "outputs": [
    {
     "data": {
      "image/png": "[encoded data removed]",
      "text/plain": [
       "<Figure size 432x288 with 1 Axes>"
      ]
     },
     "metadata": {
      "needs_background": "light"
     },
     "output_type": "display_data"
    }
   ],
   "source": [
    "import matplotlib.pyplot as plt\n",
    "\n",
    "# Récupération données de l'entraînement\n",
    "loss = history.history[\"loss\"]\n",
    "val_loss = history.history[\"val_loss\"]\n",
    "\n",
    "# Array pour les abscisses : nombre d'epochs\n",
    "epochs = range(1, len(loss) + 1)\n",
    "\n",
    "# Affichage\n",
    "plt.plot(epochs, loss, \"ro\", label=\"Training loss\")\n",
    "plt.plot(epochs, val_loss, \"b\", label=\"Validation loss\")\n",
    "plt.title(\"Training and validation loss\")\n",
    "plt.xlabel(\"Epochs\")\n",
    "plt.ylabel(\"Loss\")\n",
    "plt.legend()\n",
    "plt.show()"
   ]
  },
  {
   "cell_type": "markdown",
   "id": "109b3319",
   "metadata": {},
   "source": [
    "## Affichage avec restriction"
   ]
  },
  {
   "cell_type": "code",
   "execution_count": 72,
   "id": "584cc890",
   "metadata": {},
   "outputs": [
    {
     "data": {
      "image/png": "[encoded data removed]",
      "text/plain": [
       "<Figure size 432x288 with 1 Axes>"
      ]
     },
     "metadata": {
      "needs_background": "light"
     },
     "output_type": "display_data"
    }
   ],
   "source": [
    "# Nouveau début des abscisses\n",
    "debut_epochs = 75\n",
    "\n",
    "# Troncature des abscisses préalablement créées\n",
    "epochs_restriction = range(debut_epochs+1, len(loss) + 1)\n",
    "\n",
    "# Affichage\n",
    "plt.plot(epochs_restriction, loss[debut_epochs:], \"r.\", label=\"Training loss\")\n",
    "plt.plot(epochs_restriction, val_loss[debut_epochs:], \"b\", label=\"Validation loss\")\n",
    "plt.title(\"Training and validation loss\")\n",
    "plt.xlabel(\"Epochs\")\n",
    "plt.ylabel(\"Loss\")\n",
    "plt.legend()\n",
    "plt.show()"
   ]
  },
  {
   "cell_type": "markdown",
   "id": "4a68bed5",
   "metadata": {},
   "source": [
    "## Affichage Accuracy avant restriction"
   ]
  },
  {
   "cell_type": "code",
   "execution_count": 73,
   "id": "209d4a7e",
   "metadata": {},
   "outputs": [
    {
     "data": {
      "image/png": "[encoded data removed]",
      "text/plain": [
       "<Figure size 432x288 with 1 Axes>"
      ]
     },
     "metadata": {
      "needs_background": "light"
     },
     "output_type": "display_data"
    }
   ],
   "source": [
    "# Clear the current figure but keeps it open\n",
    "# plt.clf()\n",
    "\n",
    "# Récupération des données d'entraînement\n",
    "acc = history.history[\"accuracy\"]\n",
    "val_acc = history.history[\"val_accuracy\"]\n",
    "\n",
    "# Affichage\n",
    "plt.plot(epochs, acc, \"ro\", label=\"Training accuracy\")\n",
    "plt.plot(epochs, val_acc, \"b\", label=\"Validation accuracy\")\n",
    "plt.title(\"Training and validation accuracy\")\n",
    "plt.xlabel(\"Epochs\")\n",
    "plt.ylabel(\"Accuracy\")\n",
    "plt.legend()\n",
    "plt.show()"
   ]
  },
  {
   "cell_type": "markdown",
   "id": "d3cb528d",
   "metadata": {},
   "source": [
    "## Affichage Accuracy avec restriction"
   ]
  },
  {
   "cell_type": "code",
   "execution_count": 74,
   "id": "05971b90",
   "metadata": {},
   "outputs": [
    {
     "data": {
      "image/png": "[encoded data removed]",
      "text/plain": [
       "<Figure size 432x288 with 1 Axes>"
      ]
     },
     "metadata": {
      "needs_background": "light"
     },
     "output_type": "display_data"
    }
   ],
   "source": [
    "# plt.clf()\n",
    "\n",
    "# Récupération des données d'entraînement\n",
    "acc = history.history[\"accuracy\"]\n",
    "val_acc = history.history[\"val_accuracy\"]\n",
    "\n",
    "# Affichage\n",
    "plt.plot(epochs_restriction, acc[debut_epochs:], \"r.\", label=\"Training acc\")\n",
    "plt.plot(epochs_restriction, val_acc[debut_epochs:], \"b\", label=\"Validation acc\")\n",
    "plt.title(\"Training and validation accuracy\")\n",
    "plt.xlabel(\"Epochs\")\n",
    "plt.ylabel(\"Accuracy\")\n",
    "plt.legend()\n",
    "plt.show()"
   ]
  },
  {
   "cell_type": "markdown",
   "id": "fa57a3b6",
   "metadata": {},
   "source": [
    "## Ré-entrainement avec valeur d'epoch adapté"
   ]
  },
  {
   "cell_type": "code",
   "execution_count": 76,
   "id": "08e07073",
   "metadata": {},
   "outputs": [
    {
     "name": "stdout",
     "output_type": "stream",
     "text": [
      "Epoch 1/100\n",
      "8/8 [==============================] - 1s 31ms/step - loss: 1.0466 - accuracy: 0.4417 - val_loss: 0.9730 - val_accuracy: 0.5667\n",
      "Epoch 2/100\n",
      "8/8 [==============================] - 0s 7ms/step - loss: 0.8734 - accuracy: 0.6750 - val_loss: 0.8927 - val_accuracy: 0.6000\n",
      "Epoch 3/100\n",
      "8/8 [==============================] - 0s 6ms/step - loss: 0.7762 - accuracy: 0.7417 - val_loss: 0.8285 - val_accuracy: 0.7000\n",
      "Epoch 4/100\n",
      "8/8 [==============================] - 0s 6ms/step - loss: 0.6992 - accuracy: 0.8167 - val_loss: 0.7726 - val_accuracy: 0.7333\n",
      "Epoch 5/100\n",
      "8/8 [==============================] - 0s 8ms/step - loss: 0.6335 - accuracy: 0.8417 - val_loss: 0.7228 - val_accuracy: 0.7333\n",
      "Epoch 6/100\n",
      "8/8 [==============================] - 0s 8ms/step - loss: 0.5778 - accuracy: 0.8500 - val_loss: 0.6749 - val_accuracy: 0.7667\n",
      "Epoch 7/100\n",
      "8/8 [==============================] - 0s 6ms/step - loss: 0.5308 - accuracy: 0.8667 - val_loss: 0.6375 - val_accuracy: 0.7333\n",
      "Epoch 8/100\n",
      "8/8 [==============================] - 0s 6ms/step - loss: 0.4902 - accuracy: 0.8667 - val_loss: 0.6016 - val_accuracy: 0.7667\n",
      "Epoch 9/100\n",
      "8/8 [==============================] - 0s 6ms/step - loss: 0.4564 - accuracy: 0.8583 - val_loss: 0.5685 - val_accuracy: 0.7667\n",
      "Epoch 10/100\n",
      "8/8 [==============================] - 0s 6ms/step - loss: 0.4278 - accuracy: 0.8667 - val_loss: 0.5411 - val_accuracy: 0.7667\n",
      "Epoch 11/100\n",
      "8/8 [==============================] - 0s 6ms/step - loss: 0.4016 - accuracy: 0.8667 - val_loss: 0.5100 - val_accuracy: 0.8000\n",
      "Epoch 12/100\n",
      "8/8 [==============================] - 0s 7ms/step - loss: 0.3805 - accuracy: 0.8583 - val_loss: 0.4810 - val_accuracy: 0.8000\n",
      "Epoch 13/100\n",
      "8/8 [==============================] - 0s 6ms/step - loss: 0.3597 - accuracy: 0.8583 - val_loss: 0.4538 - val_accuracy: 0.8333\n",
      "Epoch 14/100\n",
      "8/8 [==============================] - 0s 6ms/step - loss: 0.3420 - accuracy: 0.8583 - val_loss: 0.4318 - val_accuracy: 0.8333\n",
      "Epoch 15/100\n",
      "8/8 [==============================] - 0s 7ms/step - loss: 0.3246 - accuracy: 0.8583 - val_loss: 0.4087 - val_accuracy: 0.8333\n",
      "Epoch 16/100\n",
      "8/8 [==============================] - 0s 6ms/step - loss: 0.3088 - accuracy: 0.8583 - val_loss: 0.3880 - val_accuracy: 0.8333\n",
      "Epoch 17/100\n",
      "8/8 [==============================] - 0s 6ms/step - loss: 0.2954 - accuracy: 0.8750 - val_loss: 0.3750 - val_accuracy: 0.8667\n",
      "Epoch 18/100\n",
      "8/8 [==============================] - 0s 7ms/step - loss: 0.2827 - accuracy: 0.8667 - val_loss: 0.3590 - val_accuracy: 0.8667\n",
      "Epoch 19/100\n",
      "8/8 [==============================] - 0s 6ms/step - loss: 0.2713 - accuracy: 0.8667 - val_loss: 0.3372 - val_accuracy: 0.8667\n",
      "Epoch 20/100\n",
      "8/8 [==============================] - 0s 6ms/step - loss: 0.2614 - accuracy: 0.8750 - val_loss: 0.3183 - val_accuracy: 0.9000\n",
      "Epoch 21/100\n",
      "8/8 [==============================] - 0s 8ms/step - loss: 0.2501 - accuracy: 0.8917 - val_loss: 0.3034 - val_accuracy: 0.9333\n",
      "Epoch 22/100\n",
      "8/8 [==============================] - 0s 7ms/step - loss: 0.2405 - accuracy: 0.9083 - val_loss: 0.2921 - val_accuracy: 0.9333\n",
      "Epoch 23/100\n",
      "8/8 [==============================] - 0s 6ms/step - loss: 0.2317 - accuracy: 0.9167 - val_loss: 0.2820 - val_accuracy: 0.9333\n",
      "Epoch 24/100\n",
      "8/8 [==============================] - 0s 6ms/step - loss: 0.2233 - accuracy: 0.9167 - val_loss: 0.2728 - val_accuracy: 0.9000\n",
      "Epoch 25/100\n",
      "8/8 [==============================] - 0s 6ms/step - loss: 0.2153 - accuracy: 0.9083 - val_loss: 0.2547 - val_accuracy: 1.0000\n",
      "Epoch 26/100\n",
      "8/8 [==============================] - 0s 6ms/step - loss: 0.2096 - accuracy: 0.9333 - val_loss: 0.2543 - val_accuracy: 0.9333\n",
      "Epoch 27/100\n",
      "8/8 [==============================] - 0s 7ms/step - loss: 0.2025 - accuracy: 0.9250 - val_loss: 0.2410 - val_accuracy: 1.0000\n",
      "Epoch 28/100\n",
      "8/8 [==============================] - 0s 6ms/step - loss: 0.1957 - accuracy: 0.9333 - val_loss: 0.2296 - val_accuracy: 1.0000\n",
      "Epoch 29/100\n",
      "8/8 [==============================] - 0s 7ms/step - loss: 0.1909 - accuracy: 0.9417 - val_loss: 0.2263 - val_accuracy: 1.0000\n",
      "Epoch 30/100\n",
      "8/8 [==============================] - 0s 9ms/step - loss: 0.1863 - accuracy: 0.9250 - val_loss: 0.2149 - val_accuracy: 1.0000\n",
      "Epoch 31/100\n",
      "8/8 [==============================] - 0s 6ms/step - loss: 0.1791 - accuracy: 0.9333 - val_loss: 0.2055 - val_accuracy: 1.0000\n",
      "Epoch 32/100\n",
      "8/8 [==============================] - 0s 6ms/step - loss: 0.1731 - accuracy: 0.9417 - val_loss: 0.1972 - val_accuracy: 1.0000\n",
      "Epoch 33/100\n",
      "8/8 [==============================] - 0s 6ms/step - loss: 0.1672 - accuracy: 0.9500 - val_loss: 0.1885 - val_accuracy: 1.0000\n",
      "Epoch 34/100\n",
      "8/8 [==============================] - 0s 7ms/step - loss: 0.1621 - accuracy: 0.9500 - val_loss: 0.1787 - val_accuracy: 1.0000\n",
      "Epoch 35/100\n",
      "8/8 [==============================] - 0s 6ms/step - loss: 0.1583 - accuracy: 0.9500 - val_loss: 0.1753 - val_accuracy: 1.0000\n",
      "Epoch 36/100\n",
      "8/8 [==============================] - 0s 6ms/step - loss: 0.1535 - accuracy: 0.9500 - val_loss: 0.1717 - val_accuracy: 1.0000\n",
      "Epoch 37/100\n",
      "8/8 [==============================] - 0s 6ms/step - loss: 0.1477 - accuracy: 0.9583 - val_loss: 0.1587 - val_accuracy: 1.0000\n",
      "Epoch 38/100\n",
      "8/8 [==============================] - 0s 6ms/step - loss: 0.1447 - accuracy: 0.9500 - val_loss: 0.1595 - val_accuracy: 1.0000\n",
      "Epoch 39/100\n",
      "8/8 [==============================] - 0s 6ms/step - loss: 0.1416 - accuracy: 0.9500 - val_loss: 0.1570 - val_accuracy: 1.0000\n",
      "Epoch 40/100\n",
      "8/8 [==============================] - 0s 6ms/step - loss: 0.1384 - accuracy: 0.9500 - val_loss: 0.1436 - val_accuracy: 1.0000\n",
      "Epoch 41/100\n",
      "8/8 [==============================] - 0s 6ms/step - loss: 0.1334 - accuracy: 0.9500 - val_loss: 0.1432 - val_accuracy: 1.0000\n",
      "Epoch 42/100\n",
      "8/8 [==============================] - 0s 6ms/step - loss: 0.1306 - accuracy: 0.9500 - val_loss: 0.1348 - val_accuracy: 1.0000\n",
      "Epoch 43/100\n",
      "8/8 [==============================] - 0s 6ms/step - loss: 0.1259 - accuracy: 0.9583 - val_loss: 0.1325 - val_accuracy: 1.0000\n",
      "Epoch 44/100\n",
      "8/8 [==============================] - 0s 6ms/step - loss: 0.1235 - accuracy: 0.9500 - val_loss: 0.1327 - val_accuracy: 1.0000\n",
      "Epoch 45/100\n",
      "8/8 [==============================] - 0s 6ms/step - loss: 0.1185 - accuracy: 0.9583 - val_loss: 0.1206 - val_accuracy: 0.9667\n",
      "Epoch 46/100\n",
      "8/8 [==============================] - 0s 6ms/step - loss: 0.1176 - accuracy: 0.9583 - val_loss: 0.1154 - val_accuracy: 0.9667\n",
      "Epoch 47/100\n",
      "8/8 [==============================] - 0s 5ms/step - loss: 0.1122 - accuracy: 0.9500 - val_loss: 0.1133 - val_accuracy: 0.9667\n",
      "Epoch 48/100\n",
      "8/8 [==============================] - 0s 6ms/step - loss: 0.1078 - accuracy: 0.9583 - val_loss: 0.1079 - val_accuracy: 0.9667\n",
      "Epoch 49/100\n",
      "8/8 [==============================] - 0s 5ms/step - loss: 0.1091 - accuracy: 0.9500 - val_loss: 0.1079 - val_accuracy: 1.0000\n",
      "Epoch 50/100\n",
      "8/8 [==============================] - 0s 5ms/step - loss: 0.1060 - accuracy: 0.9583 - val_loss: 0.1040 - val_accuracy: 1.0000\n",
      "Epoch 51/100\n",
      "8/8 [==============================] - 0s 6ms/step - loss: 0.1032 - accuracy: 0.9583 - val_loss: 0.1025 - val_accuracy: 1.0000\n",
      "Epoch 52/100\n",
      "8/8 [==============================] - 0s 6ms/step - loss: 0.0994 - accuracy: 0.9583 - val_loss: 0.1024 - val_accuracy: 1.0000\n",
      "Epoch 53/100\n",
      "8/8 [==============================] - 0s 5ms/step - loss: 0.0983 - accuracy: 0.9583 - val_loss: 0.0977 - val_accuracy: 1.0000\n",
      "Epoch 54/100\n",
      "8/8 [==============================] - 0s 6ms/step - loss: 0.0965 - accuracy: 0.9583 - val_loss: 0.0973 - val_accuracy: 1.0000\n",
      "Epoch 55/100\n",
      "8/8 [==============================] - 0s 6ms/step - loss: 0.0940 - accuracy: 0.9667 - val_loss: 0.0974 - val_accuracy: 1.0000\n",
      "Epoch 56/100\n",
      "8/8 [==============================] - 0s 5ms/step - loss: 0.0909 - accuracy: 0.9667 - val_loss: 0.0929 - val_accuracy: 1.0000\n",
      "Epoch 57/100\n",
      "8/8 [==============================] - 0s 6ms/step - loss: 0.0881 - accuracy: 0.9667 - val_loss: 0.0868 - val_accuracy: 1.0000\n",
      "Epoch 58/100\n",
      "8/8 [==============================] - 0s 6ms/step - loss: 0.0890 - accuracy: 0.9583 - val_loss: 0.0846 - val_accuracy: 0.9667\n",
      "Epoch 59/100\n"
     ]
    },
    {
     "name": "stdout",
     "output_type": "stream",
     "text": [
      "8/8 [==============================] - 0s 6ms/step - loss: 0.0844 - accuracy: 0.9583 - val_loss: 0.0838 - val_accuracy: 0.9667\n",
      "Epoch 60/100\n",
      "8/8 [==============================] - 0s 5ms/step - loss: 0.0825 - accuracy: 0.9667 - val_loss: 0.0817 - val_accuracy: 0.9667\n",
      "Epoch 61/100\n",
      "8/8 [==============================] - 0s 6ms/step - loss: 0.0845 - accuracy: 0.9667 - val_loss: 0.0803 - val_accuracy: 0.9667\n",
      "Epoch 62/100\n",
      "8/8 [==============================] - 0s 6ms/step - loss: 0.0798 - accuracy: 0.9667 - val_loss: 0.0784 - val_accuracy: 0.9667\n",
      "Epoch 63/100\n",
      "8/8 [==============================] - 0s 6ms/step - loss: 0.0793 - accuracy: 0.9583 - val_loss: 0.0785 - val_accuracy: 1.0000\n",
      "Epoch 64/100\n",
      "8/8 [==============================] - 0s 6ms/step - loss: 0.0764 - accuracy: 0.9667 - val_loss: 0.0756 - val_accuracy: 0.9667\n",
      "Epoch 65/100\n",
      "8/8 [==============================] - 0s 5ms/step - loss: 0.0742 - accuracy: 0.9667 - val_loss: 0.0739 - val_accuracy: 0.9667\n",
      "Epoch 66/100\n",
      "8/8 [==============================] - 0s 6ms/step - loss: 0.0759 - accuracy: 0.9667 - val_loss: 0.0756 - val_accuracy: 1.0000\n",
      "Epoch 67/100\n",
      "8/8 [==============================] - 0s 6ms/step - loss: 0.0726 - accuracy: 0.9667 - val_loss: 0.0737 - val_accuracy: 0.9667\n",
      "Epoch 68/100\n",
      "8/8 [==============================] - 0s 5ms/step - loss: 0.0716 - accuracy: 0.9667 - val_loss: 0.0715 - val_accuracy: 0.9667\n",
      "Epoch 69/100\n",
      "8/8 [==============================] - 0s 6ms/step - loss: 0.0698 - accuracy: 0.9667 - val_loss: 0.0712 - val_accuracy: 0.9667\n",
      "Epoch 70/100\n",
      "8/8 [==============================] - 0s 6ms/step - loss: 0.0693 - accuracy: 0.9833 - val_loss: 0.0698 - val_accuracy: 0.9667\n",
      "Epoch 71/100\n",
      "8/8 [==============================] - 0s 6ms/step - loss: 0.0692 - accuracy: 0.9750 - val_loss: 0.0681 - val_accuracy: 0.9667\n",
      "Epoch 72/100\n",
      "8/8 [==============================] - 0s 5ms/step - loss: 0.0649 - accuracy: 0.9750 - val_loss: 0.0676 - val_accuracy: 0.9667\n",
      "Epoch 73/100\n",
      "8/8 [==============================] - 0s 6ms/step - loss: 0.0688 - accuracy: 0.9750 - val_loss: 0.0657 - val_accuracy: 0.9667\n",
      "Epoch 74/100\n",
      "8/8 [==============================] - 0s 6ms/step - loss: 0.0626 - accuracy: 0.9750 - val_loss: 0.0652 - val_accuracy: 0.9667\n",
      "Epoch 75/100\n",
      "8/8 [==============================] - 0s 5ms/step - loss: 0.0626 - accuracy: 0.9833 - val_loss: 0.0642 - val_accuracy: 0.9667\n",
      "Epoch 76/100\n",
      "8/8 [==============================] - 0s 6ms/step - loss: 0.0598 - accuracy: 0.9833 - val_loss: 0.0642 - val_accuracy: 0.9667\n",
      "Epoch 77/100\n",
      "8/8 [==============================] - 0s 5ms/step - loss: 0.0612 - accuracy: 0.9833 - val_loss: 0.0621 - val_accuracy: 0.9667\n",
      "Epoch 78/100\n",
      "8/8 [==============================] - 0s 5ms/step - loss: 0.0625 - accuracy: 0.9833 - val_loss: 0.0612 - val_accuracy: 0.9667\n",
      "Epoch 79/100\n",
      "8/8 [==============================] - 0s 6ms/step - loss: 0.0561 - accuracy: 0.9833 - val_loss: 0.0621 - val_accuracy: 0.9667\n",
      "Epoch 80/100\n",
      "8/8 [==============================] - 0s 5ms/step - loss: 0.0582 - accuracy: 0.9833 - val_loss: 0.0615 - val_accuracy: 0.9667\n",
      "Epoch 81/100\n",
      "8/8 [==============================] - 0s 6ms/step - loss: 0.0545 - accuracy: 0.9917 - val_loss: 0.0596 - val_accuracy: 1.0000\n",
      "Epoch 82/100\n",
      "8/8 [==============================] - 0s 6ms/step - loss: 0.0543 - accuracy: 0.9833 - val_loss: 0.0600 - val_accuracy: 0.9667\n",
      "Epoch 83/100\n",
      "8/8 [==============================] - 0s 5ms/step - loss: 0.0534 - accuracy: 0.9833 - val_loss: 0.0596 - val_accuracy: 0.9667\n",
      "Epoch 84/100\n",
      "8/8 [==============================] - 0s 6ms/step - loss: 0.0529 - accuracy: 0.9917 - val_loss: 0.0586 - val_accuracy: 0.9667\n",
      "Epoch 85/100\n",
      "8/8 [==============================] - 0s 5ms/step - loss: 0.0514 - accuracy: 0.9917 - val_loss: 0.0582 - val_accuracy: 1.0000\n",
      "Epoch 86/100\n",
      "8/8 [==============================] - 0s 6ms/step - loss: 0.0519 - accuracy: 0.9833 - val_loss: 0.0570 - val_accuracy: 0.9667\n",
      "Epoch 87/100\n",
      "8/8 [==============================] - 0s 5ms/step - loss: 0.0489 - accuracy: 0.9917 - val_loss: 0.0571 - val_accuracy: 0.9667\n",
      "Epoch 88/100\n",
      "8/8 [==============================] - 0s 6ms/step - loss: 0.0513 - accuracy: 0.9833 - val_loss: 0.0570 - val_accuracy: 0.9667\n",
      "Epoch 89/100\n",
      "8/8 [==============================] - 0s 6ms/step - loss: 0.0498 - accuracy: 0.9917 - val_loss: 0.0606 - val_accuracy: 0.9667\n",
      "Epoch 90/100\n",
      "8/8 [==============================] - 0s 5ms/step - loss: 0.0490 - accuracy: 0.9917 - val_loss: 0.0556 - val_accuracy: 0.9667\n",
      "Epoch 91/100\n",
      "8/8 [==============================] - 0s 5ms/step - loss: 0.0476 - accuracy: 0.9917 - val_loss: 0.0552 - val_accuracy: 0.9667\n",
      "Epoch 92/100\n",
      "8/8 [==============================] - 0s 6ms/step - loss: 0.0490 - accuracy: 0.9833 - val_loss: 0.0565 - val_accuracy: 0.9667\n",
      "Epoch 93/100\n",
      "8/8 [==============================] - 0s 5ms/step - loss: 0.0483 - accuracy: 0.9833 - val_loss: 0.0558 - val_accuracy: 0.9667\n",
      "Epoch 94/100\n",
      "8/8 [==============================] - 0s 6ms/step - loss: 0.0471 - accuracy: 0.9917 - val_loss: 0.0554 - val_accuracy: 0.9667\n",
      "Epoch 95/100\n",
      "8/8 [==============================] - 0s 6ms/step - loss: 0.0446 - accuracy: 0.9917 - val_loss: 0.0541 - val_accuracy: 0.9667\n",
      "Epoch 96/100\n",
      "8/8 [==============================] - 0s 6ms/step - loss: 0.0455 - accuracy: 0.9833 - val_loss: 0.0561 - val_accuracy: 0.9667\n",
      "Epoch 97/100\n",
      "8/8 [==============================] - 0s 5ms/step - loss: 0.0436 - accuracy: 0.9917 - val_loss: 0.0545 - val_accuracy: 0.9667\n",
      "Epoch 98/100\n",
      "8/8 [==============================] - 0s 5ms/step - loss: 0.0452 - accuracy: 0.9833 - val_loss: 0.0541 - val_accuracy: 0.9667\n",
      "Epoch 99/100\n",
      "8/8 [==============================] - 0s 6ms/step - loss: 0.0416 - accuracy: 0.9833 - val_loss: 0.0558 - val_accuracy: 0.9667\n",
      "Epoch 100/100\n",
      "8/8 [==============================] - 0s 6ms/step - loss: 0.0430 - accuracy: 0.9917 - val_loss: 0.0540 - val_accuracy: 0.9667\n"
     ]
    }
   ],
   "source": [
    "model = build_model()\n",
    "history = model.fit(train_data, train_labels, \n",
    "                    epochs=100, \n",
    "                    batch_size=16, \n",
    "                    validation_data=(test_data, test_labels))"
   ]
  },
  {
   "cell_type": "code",
   "execution_count": 77,
   "id": "1d9c0951",
   "metadata": {},
   "outputs": [
    {
     "name": "stdout",
     "output_type": "stream",
     "text": [
      "accuracy: 0.97\n"
     ]
    }
   ],
   "source": [
    "predictions = model(test_data)\n",
    "predictions = predictions.numpy()\n",
    "predicted_labels = np.argmax(predictions, axis=1)\n",
    "matches = predicted_labels == test_labels\n",
    "print(f\"accuracy: {matches.mean():.2f}\")"
   ]
  },
  {
   "cell_type": "markdown",
   "id": "9cfde9e3",
   "metadata": {},
   "source": [
    "## Soumission de la fleur demandée"
   ]
  },
  {
   "cell_type": "markdown",
   "id": "ed25a5a5",
   "metadata": {},
   "source": [
    "### Création de la fleur"
   ]
  },
  {
   "cell_type": "code",
   "execution_count": 78,
   "id": "e1ef7f1c",
   "metadata": {},
   "outputs": [],
   "source": [
    "fleur_de_test = np.array([[6.6, 3.3, 5.8, 2.5]])"
   ]
  },
  {
   "cell_type": "markdown",
   "id": "800bb0a1",
   "metadata": {},
   "source": [
    "### Normalisation"
   ]
  },
  {
   "cell_type": "code",
   "execution_count": 79,
   "id": "bc465526",
   "metadata": {},
   "outputs": [],
   "source": [
    "fleur_de_test -= mean\n",
    "fleur_de_test /= std"
   ]
  },
  {
   "cell_type": "markdown",
   "id": "706794ae",
   "metadata": {},
   "source": [
    "### Prédiction à partir du modèle entraîné"
   ]
  },
  {
   "cell_type": "code",
   "execution_count": 80,
   "id": "57b463ea",
   "metadata": {},
   "outputs": [
    {
     "data": {
      "text/plain": [
       "array([[1.4012226e-08, 1.2365039e-04, 9.9987626e-01]], dtype=float32)"
      ]
     },
     "execution_count": 80,
     "metadata": {},
     "output_type": "execute_result"
    }
   ],
   "source": [
    "prediction = model(fleur_de_test)\n",
    "prediction = prediction.numpy()\n",
    "prediction"
   ]
  },
  {
   "cell_type": "markdown",
   "id": "68b35944",
   "metadata": {},
   "source": [
    "### Récupération du max de prediction => résultat final : espèce 3"
   ]
  },
  {
   "cell_type": "code",
   "execution_count": 81,
   "id": "75a18136",
   "metadata": {},
   "outputs": [
    {
     "data": {
      "text/plain": [
       "array([2], dtype=int64)"
      ]
     },
     "execution_count": 81,
     "metadata": {},
     "output_type": "execute_result"
    }
   ],
   "source": [
    "predicted_label = np.argmax(prediction, axis=1)\n",
    "predicted_label"
   ]
  },
  {
   "cell_type": "markdown",
   "id": "577540a3",
   "metadata": {},
   "source": [
    "## Soumission deuxième fleur"
   ]
  },
  {
   "cell_type": "code",
   "execution_count": 82,
   "id": "29ff1635",
   "metadata": {},
   "outputs": [
    {
     "data": {
      "text/plain": [
       "array([[1.7768359e-04, 9.3688148e-01, 6.2940843e-02]], dtype=float32)"
      ]
     },
     "execution_count": 82,
     "metadata": {},
     "output_type": "execute_result"
    }
   ],
   "source": [
    "fleur_de_test2 = np.array([[6.2, 2.9, 4.5, 1.5]])\n",
    "\n",
    "# Normalisation\n",
    "fleur_de_test2 -= mean\n",
    "fleur_de_test2 /= std\n",
    "\n",
    "# Prédiction\n",
    "prediction = model(fleur_de_test2)\n",
    "prediction = prediction.numpy()\n",
    "prediction"
   ]
  },
  {
   "cell_type": "markdown",
   "id": "83548567",
   "metadata": {},
   "source": [
    "### Récupération max => résultat final : espèce 2"
   ]
  },
  {
   "cell_type": "code",
   "execution_count": 33,
   "id": "c70a0ca6",
   "metadata": {},
   "outputs": [
    {
     "data": {
      "text/plain": [
       "array([1], dtype=int64)"
      ]
     },
     "execution_count": 33,
     "metadata": {},
     "output_type": "execute_result"
    }
   ],
   "source": [
    "predicted_label = np.argmax(prediction, axis=1)\n",
    "predicted_label"
   ]
  }
 ],
 "metadata": {
  "kernelspec": {
   "display_name": "Python 3",
   "language": "python",
   "name": "python3"
  },
  "language_info": {
   "codemirror_mode": {
    "name": "ipython",
    "version": 3
   },
   "file_extension": ".py",
   "mimetype": "text/x-python",
   "name": "python",
   "nbconvert_exporter": "python",
   "pygments_lexer": "ipython3",
   "version": "3.8.8"
  }
 },
 "nbformat": 4,
 "nbformat_minor": 5
}
