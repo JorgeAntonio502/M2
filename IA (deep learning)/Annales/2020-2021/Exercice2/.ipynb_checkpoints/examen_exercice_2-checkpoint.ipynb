{
 "cells": [
  {
   "cell_type": "markdown",
   "id": "fc9fdca5",
   "metadata": {},
   "source": [
    "## Données pour effectuer l'entrainement"
   ]
  },
  {
   "cell_type": "code",
   "execution_count": 1,
   "id": "7943d555",
   "metadata": {},
   "outputs": [
    {
     "name": "stdout",
     "output_type": "stream",
     "text": [
      "There are 120 rows and 5 columns\n"
     ]
    }
   ],
   "source": [
    "import numpy as np \n",
    "\n",
    "fleurs_training = np.genfromtxt(\"fleurs_training.csv\", delimiter=\",\")\n",
    "nRow, nCol = fleurs_training.shape\n",
    "print(f\"There are {nRow} rows and {nCol} columns\")"
   ]
  },
  {
   "cell_type": "markdown",
   "id": "4d24a372",
   "metadata": {},
   "source": [
    "## Données pour faire le test"
   ]
  },
  {
   "cell_type": "code",
   "execution_count": 2,
   "id": "03824552",
   "metadata": {},
   "outputs": [
    {
     "name": "stdout",
     "output_type": "stream",
     "text": [
      "There are 30 rows and 5 columns\n"
     ]
    }
   ],
   "source": [
    "fleurs_test = np.genfromtxt(\"fleurs_test.csv\", delimiter=\",\")\n",
    "nRow, nCol = fleurs_test.shape\n",
    "print(f\"There are {nRow} rows and {nCol} columns\")"
   ]
  },
  {
   "cell_type": "markdown",
   "id": "4c10653d",
   "metadata": {},
   "source": [
    "# Exercice"
   ]
  },
  {
   "cell_type": "markdown",
   "id": "a43b9b36",
   "metadata": {},
   "source": [
    "Voir le sujet donné sur papier"
   ]
  },
  {
   "cell_type": "code",
   "execution_count": null,
   "id": "cdf83ab5",
   "metadata": {},
   "outputs": [],
   "source": []
  }
 ],
 "metadata": {
  "kernelspec": {
   "display_name": "Python 3",
   "language": "python",
   "name": "python3"
  },
  "language_info": {
   "codemirror_mode": {
    "name": "ipython",
    "version": 3
   },
   "file_extension": ".py",
   "mimetype": "text/x-python",
   "name": "python",
   "nbconvert_exporter": "python",
   "pygments_lexer": "ipython3",
   "version": "3.8.8"
  }
 },
 "nbformat": 4,
 "nbformat_minor": 5
}
