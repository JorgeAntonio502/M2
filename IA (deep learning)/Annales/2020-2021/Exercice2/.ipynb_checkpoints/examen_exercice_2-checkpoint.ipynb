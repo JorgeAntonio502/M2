{
 "cells": [
  {
   "cell_type": "markdown",
   "id": "fc9fdca5",
   "metadata": {},
   "source": [
    "## Données pour effectuer l'entrainement"
   ]
  },
  {
   "cell_type": "code",
   "execution_count": 3,
   "id": "7943d555",
   "metadata": {},
   "outputs": [
    {
     "name": "stdout",
     "output_type": "stream",
     "text": [
      "There are 120 rows and 5 columns\n"
     ]
    }
   ],
   "source": [
    "import numpy as np \n",
    "\n",
    "# cvs avec 5 colonnes\n",
    "fleurs_training = np.genfromtxt(\"fleurs_training.csv\", delimiter=\",\")\n",
    "nRow, nCol = fleurs_training.shape\n",
    "print(f\"There are {nRow} rows and {nCol} columns\")"
   ]
  },
  {
   "cell_type": "markdown",
   "id": "4d24a372",
   "metadata": {},
   "source": [
    "## Données pour faire le test"
   ]
  },
  {
   "cell_type": "code",
   "execution_count": 2,
   "id": "03824552",
   "metadata": {},
   "outputs": [
    {
     "name": "stdout",
     "output_type": "stream",
     "text": [
      "There are 30 rows and 5 columns\n"
     ]
    }
   ],
   "source": [
    "fleurs_test = np.genfromtxt(\"fleurs_test.csv\", delimiter=\",\")\n",
    "nRow, nCol = fleurs_test.shape\n",
    "print(f\"There are {nRow} rows and {nCol} columns\")"
   ]
  },
  {
   "cell_type": "markdown",
   "id": "4c10653d",
   "metadata": {},
   "source": [
    "# Exercice"
   ]
  },
  {
   "cell_type": "markdown",
   "id": "4c9e9303",
   "metadata": {},
   "source": [
    "# Classification multi-classe"
   ]
  },
  {
   "cell_type": "markdown",
   "id": "b8519742",
   "metadata": {},
   "source": [
    "## Données pour entraînement (Q1)"
   ]
  },
  {
   "cell_type": "code",
   "execution_count": 5,
   "id": "5306b794",
   "metadata": {},
   "outputs": [
    {
     "name": "stdout",
     "output_type": "stream",
     "text": [
      "There are 120 rows and 5 columns\n"
     ]
    }
   ],
   "source": [
    "import numpy as np\n",
    "\n",
    "all_train_data = np.genfromtxt(\"fleurs_training.csv\", delimiter=\",\")\n",
    "nRow, nCol = all_train_data.shape\n",
    "print(f\"There are {nRow} rows and {nCol} columns\")"
   ]
  },
  {
   "cell_type": "code",
   "execution_count": 6,
   "id": "b87fedfd",
   "metadata": {},
   "outputs": [
    {
     "data": {
      "text/plain": [
       "(120, 4)"
      ]
     },
     "execution_count": 6,
     "metadata": {},
     "output_type": "execute_result"
    }
   ],
   "source": [
    "train_data = all_train_data[:,0:4]\n",
    "train_data.shape"
   ]
  },
  {
   "cell_type": "code",
   "execution_count": 7,
   "id": "513f9bda",
   "metadata": {},
   "outputs": [
    {
     "data": {
      "text/plain": [
       "(120,)"
      ]
     },
     "execution_count": 7,
     "metadata": {},
     "output_type": "execute_result"
    }
   ],
   "source": [
    "train_labels = all_train_data[:,4]\n",
    "train_labels.shape"
   ]
  },
  {
   "cell_type": "markdown",
   "id": "9943d208",
   "metadata": {},
   "source": [
    "## Données de test (Q2)"
   ]
  },
  {
   "cell_type": "code",
   "execution_count": 9,
   "id": "1e73cd8b",
   "metadata": {},
   "outputs": [
    {
     "name": "stdout",
     "output_type": "stream",
     "text": [
      "There are 30 rows and 5 columns\n"
     ]
    }
   ],
   "source": [
    "all_test_data = np.genfromtxt(\"fleurs_test.csv\", delimiter=\",\")\n",
    "nRow, nCol = all_test_data.shape\n",
    "print(f\"There are {nRow} rows and {nCol} columns\")"
   ]
  },
  {
   "cell_type": "code",
   "execution_count": 10,
   "id": "60585365",
   "metadata": {},
   "outputs": [
    {
     "data": {
      "text/plain": [
       "(30, 4)"
      ]
     },
     "execution_count": 10,
     "metadata": {},
     "output_type": "execute_result"
    }
   ],
   "source": [
    "test_data = all_test_data[:,0:4]\n",
    "test_data.shape"
   ]
  },
  {
   "cell_type": "code",
   "execution_count": 11,
   "id": "e140d1d5",
   "metadata": {},
   "outputs": [
    {
     "data": {
      "text/plain": [
       "(30,)"
      ]
     },
     "execution_count": 11,
     "metadata": {},
     "output_type": "execute_result"
    }
   ],
   "source": [
    "test_labels = all_test_data[:,4]\n",
    "test_labels.shape"
   ]
  },
  {
   "cell_type": "markdown",
   "id": "b2953059",
   "metadata": {},
   "source": [
    "## Normalisation des données"
   ]
  },
  {
   "cell_type": "code",
   "execution_count": 14,
   "id": "8951c371",
   "metadata": {},
   "outputs": [],
   "source": [
    "mean = train_data.mean(axis = 0)\n",
    "train_data -= mean\n",
    "std = train_data.std(axis = 0)\n",
    "train_data /= std\n",
    "test_data -= mean\n",
    "test_data /= std"
   ]
  },
  {
   "cell_type": "markdown",
   "id": "ba69af3a",
   "metadata": {},
   "source": [
    "## Création du modèle (Q3)"
   ]
  },
  {
   "cell_type": "code",
   "execution_count": 12,
   "id": "bc8fdf25",
   "metadata": {},
   "outputs": [],
   "source": [
    "from tensorflow import keras\n",
    "from tensorflow.keras import layers\n",
    "\n",
    "model = keras.Sequential([\n",
    "    layers.Dense(16, activation=\"relu\"),\n",
    "    layers.Dense(16, activation=\"relu\"),\n",
    "    layers.Dense(3, activation=\"softmax\")\n",
    "])"
   ]
  },
  {
   "cell_type": "markdown",
   "id": "79138fba",
   "metadata": {},
   "source": [
    "## Compilation du modèle"
   ]
  },
  {
   "cell_type": "code",
   "execution_count": 13,
   "id": "d5bca083",
   "metadata": {},
   "outputs": [],
   "source": [
    "model.compile(optimizer=\"rmsprop\",\n",
    "              loss=\"sparse_categorical_crossentropy\", # Cas similaire au nombres de la feuille 2\n",
    "              metrics=[\"accuracy\"])"
   ]
  },
  {
   "cell_type": "markdown",
   "id": "cf19cdb6",
   "metadata": {},
   "source": [
    "## Validation du modèle"
   ]
  },
  {
   "cell_type": "markdown",
   "id": "cb4850f0",
   "metadata": {},
   "source": [
    "### Données de validation "
   ]
  },
  {
   "cell_type": "code",
   "execution_count": null,
   "id": "4ebb1bd0",
   "metadata": {},
   "outputs": [],
   "source": [
    "x_val = x_train[:1000]\n",
    "partial_x_train = x_train[1000:]\n",
    "y_val = y_train[:1000]\n",
    "partial_y_train = y_train[1000:]"
   ]
  },
  {
   "cell_type": "markdown",
   "id": "04bcb43c",
   "metadata": {},
   "source": [
    "### Entraînement du modèle"
   ]
  },
  {
   "cell_type": "code",
   "execution_count": null,
   "id": "f2e5bb43",
   "metadata": {},
   "outputs": [],
   "source": [
    "history = model.fit(train_data, # Les données d'entraînement\n",
    "                    train_labels, # Les espèces de fleur\n",
    "                    epochs=200,\n",
    "                    batch_size=16, # Batch : lot de données\n",
    "                    validation_data=(x_val, y_val))"
   ]
  }
 ],
 "metadata": {
  "kernelspec": {
   "display_name": "Python 3 (ipykernel)",
   "language": "python",
   "name": "python3"
  },
  "language_info": {
   "codemirror_mode": {
    "name": "ipython",
    "version": 3
   },
   "file_extension": ".py",
   "mimetype": "text/x-python",
   "name": "python",
   "nbconvert_exporter": "python",
   "pygments_lexer": "ipython3",
   "version": "3.9.7"
  }
 },
 "nbformat": 4,
 "nbformat_minor": 5
}
